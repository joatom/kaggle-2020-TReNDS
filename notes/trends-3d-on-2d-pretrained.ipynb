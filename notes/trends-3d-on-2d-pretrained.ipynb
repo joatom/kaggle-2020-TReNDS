{
 "cells": [
  {
   "cell_type": "markdown",
   "execution_count": null,
   "metadata": {},
   "source": [
    "Picked all images and converting them to 2d (reducing 1st dim to 3 channels with conv3d) to apply pretrained model (expects 3 channels as dim 1 (normaly RGB)). \n",
    "3d to 2d conversion could be done in advance for speed up, if there is a reliable converting algo."
   ]
  },
  {
   "cell_type": "code",
   "execution_count": 1,
   "metadata": {
    "_cell_guid": "b1076dfc-b9ad-4769-8c92-a6c4dae69d19",
    "_uuid": "8f2839f25d086af736a60e9eeb907d3b93b6e0e5"
   },
   "outputs": [],
   "source": [
    "# This Python 3 environment comes with many helpful analytics libraries installed\n",
    "# It is defined by the kaggle/python Docker image: https://github.com/kaggle/docker-python\n",
    "# For example, here's several helpful packages to load\n",
    "\n",
    "import numpy as np\n",
    "import pandas as pd\n",
    "\n",
    "from pathlib import Path\n",
    "from matplotlib import pyplot as plt\n",
    "import seaborn as sns\n",
    "\n",
    "import h5py\n",
    "\n",
    "import torch.nn.functional as F\n",
    "from torchvision.transforms import functional as F2\n",
    "\n",
    "from sklearn.model_selection import KFold, RepeatedKFold, StratifiedKFold\n",
    "\n",
    "from fastai.vision import * \n",
    "from fastai import *\n",
    "\n",
    "import os, shutil\n",
    "import sys\n",
    "\n",
    "# Input data files are available in the read-only \"../input/\" directory\n",
    "# For example, running this (by clicking run or pressing Shift+Enter) will list all files under the input directory\n",
    "\n",
    "import os\n",
    "#for dirname, _, filenames in os.walk('/kaggle/input'):\n",
    "#    for filename in filenames:\n",
    "#        print(os.path.join(dirname, filename))\n",
    "\n",
    "# You can write up to 5GB to the current directory (/kaggle/working/) that gets preserved as output when you create a version using \"Save & Run All\" \n",
    "# You can also write temporary files to /kaggle/temp/, but they won't be saved outside of the current session"
   ]
  },
  {
   "cell_type": "code",
   "execution_count": 2,
   "metadata": {
    "_cell_guid": "79c7e3d0-c299-4dcb-8224-4455121ee9b0",
    "_uuid": "d629ff2d2480ee46fbb7e2d37f6b5fab8052498a"
   },
   "outputs": [],
   "source": [
    "kaggle_path = Path('.') # '.'\n",
    "kaggle_input_path = Path('/kaggle/input/trends-assessment-prediction') # '/kaggle/input/trends-assessment-prediction'\n",
    "mri_train_path = Path(kaggle_input_path/'fMRI_train') #fMRI_train\n"
   ]
  },
  {
   "cell_type": "code",
   "execution_count": 3,
   "metadata": {},
   "outputs": [],
   "source": [
    "IMPUTATION_STRAT = 'IGNORE_ON_TRAIN' # 'IGNORE_ON_TRAIN', 'MEAN' \n",
    "LOSS_BASE = 'MSE' # 'MSE' # 'L1' 'MIX' 'VAR'\n",
    "LOSS_WEIGHTS = [0.3, 0.175, 0.175, 0.175, 0.175] #[0.2,0.2,0.2,0.2,0.2] #[0,0,0,0,1]#\n",
    "\n",
    "DEP_VAR = ['age','domain1_var1','domain1_var2', 'domain2_var1', 'domain2_var2']"
   ]
  },
  {
   "cell_type": "code",
   "execution_count": 4,
   "metadata": {},
   "outputs": [],
   "source": [
    "y_data = pd.read_csv(kaggle_input_path/'train_scores.csv')\n",
    "y_data = y_data.fillna(0)\n"
   ]
  },
  {
   "cell_type": "code",
   "execution_count": 5,
   "metadata": {},
   "outputs": [],
   "source": [
    "def norm_absolute_error(preds, targs):\n",
    "    # variation of https://github.com/fastai/fastai/blob/master/fastai/metrics.py#L85\n",
    "    \"Normalized absolute error between `pred` and `targ`.\"\n",
    "    sg=targs.sign()\n",
    "    y=targs*sg\n",
    "        \n",
    "    pred, targ = flatten_check(preds*sg, y)\n",
    "    return torch.abs(targ - pred).sum() / targ.sum()\n",
    "\n",
    "def weighted_nae(preds, targs, details = False):\n",
    "    \n",
    "    if IMPUTATION_STRAT == 'IGNORE_ON_TRAIN':\n",
    "        sg = targs.float().sign()\n",
    "        x0 = preds[:,0].float()*sg[:,0]\n",
    "        x1 = preds[:,1].float()*sg[:,1]\n",
    "        x2 = preds[:,2].float()*sg[:,2]\n",
    "        x3 = preds[:,3].float()*sg[:,3]\n",
    "        x4 = preds[:,4].float()*sg[:,4]\n",
    "    else: # 'MEAN'\n",
    "        sg = 1\n",
    "        x0 = preds[:,0].float()\n",
    "        x1 = preds[:,1].float()\n",
    "        x2 = preds[:,2].float()\n",
    "        x3 = preds[:,3].float()\n",
    "        x4 = preds[:,4].float()\n",
    "            \n",
    "    y = targs.float()*sg\n",
    "    \n",
    "    return norm_absolute_error(x0,y[:,0]), \\\n",
    "           norm_absolute_error(x1,y[:,1]), \\\n",
    "           norm_absolute_error(x2,y[:,2]), \\\n",
    "           norm_absolute_error(x3,y[:,3]), \\\n",
    "           norm_absolute_error(x4,y[:,4]), \\\n",
    "           0.3 * norm_absolute_error(x0,y[:,0]) + \\\n",
    "           0.175 * norm_absolute_error(x1,y[:,1]) + \\\n",
    "           0.175 * norm_absolute_error(x2,y[:,2]) + \\\n",
    "           0.175 * norm_absolute_error(x3,y[:,3]) + \\\n",
    "           0.175 * norm_absolute_error(x4,y[:,4])\n",
    "\n",
    "def plot_diff(y, y_truth):\n",
    "    y_df = pd.DataFrame(y.numpy())\n",
    "    y_df.columns = DEP_VAR\n",
    "    y_df = y_df.melt()\n",
    "    y_df['Id'] = y_df.index\n",
    "    \n",
    "    y_truth_df = pd.DataFrame(y_truth.numpy())\n",
    "    y_truth_df.columns = DEP_VAR\n",
    "    y_truth_df = y_truth_df.melt()\n",
    "    y_truth_df['Id'] = y_truth_df.index\n",
    "\n",
    "    plot_df = y_truth_df.merge(y_df, on=['variable', 'Id'], how='inner').drop('Id', axis = 1)\n",
    "    plot_df.columns = ['Category', 'Target', 'Prediction']\n",
    "\n",
    "    g = sns.relplot(x=\"Target\", y=\"Prediction\",\n",
    "                  col=\"Category\", hue=\"Category\", style=\"Category\",\n",
    "                  kind=\"scatter\", data=plot_df)\n",
    "\n",
    "\n",
    "# variation of https://www.kaggle.com/iafoss/grapheme-fast-ai-starter-lb-0-964\n",
    "\n",
    "class Metric_idx(Callback):\n",
    "    def __init__(self, idx):\n",
    "        super().__init__()\n",
    "        self.idx = idx\n",
    "        \n",
    "    def on_epoch_begin(self, **kwargs):\n",
    "        self.targs, self.preds = Tensor([]), Tensor([])\n",
    "    \n",
    "    def on_batch_end(self, last_output:Tensor, last_target:Tensor, **kwargs):\n",
    "        last_output = last_output[self.idx]\n",
    "        last_target = last_target[self.idx]\n",
    "        \n",
    "        self.preds = torch.cat((self.preds, last_output.float().cpu()))\n",
    "        self.targs = torch.cat((self.targs, last_target.float().cpu()))\n",
    "        \n",
    "    def _norm_absolute_error(self):\n",
    "        return norm_absolute_error(self.preds, self.targs)\n",
    "    \n",
    "    def on_epoch_end(self, last_metrics, **kwargs): \n",
    "        return add_metrics(last_metrics, self._norm_absolute_error())\n",
    "\n",
    "    \n",
    "Metric_age = partial(Metric_idx,0)\n",
    "Metric_domain1_var1 = partial(Metric_idx,1)\n",
    "Metric_domain1_var2 = partial(Metric_idx,2)\n",
    "Metric_domain2_var1 = partial(Metric_idx,3)\n",
    "Metric_domain2_var2 = partial(Metric_idx,4)\n",
    "\n",
    "class Metric_total(Callback):\n",
    "    def __init__(self):\n",
    "        super().__init__()\n",
    "        self.age = Metric_idx(0)\n",
    "        self.domain1_var1 = Metric_idx(1)\n",
    "        self.domain1_var2 = Metric_idx(2)\n",
    "        self.domain2_var1 = Metric_idx(3)\n",
    "        self.domain2_var2 = Metric_idx(4)\n",
    "        \n",
    "    def on_epoch_begin(self, **kwargs):\n",
    "        self.age.on_epoch_begin(**kwargs)\n",
    "        self.domain1_var1.on_epoch_begin(**kwargs)\n",
    "        self.domain1_var2.on_epoch_begin(**kwargs)\n",
    "        self.domain2_var1.on_epoch_begin(**kwargs)\n",
    "        self.domain2_var2.on_epoch_begin(**kwargs)\n",
    "        \n",
    "    \n",
    "    def on_batch_end(self, last_output:Tensor, last_target:Tensor, **kwargs):\n",
    "        self.age.on_batch_end(last_output, last_target, **kwargs)\n",
    "        self.domain1_var1.on_batch_end(last_output, last_target, **kwargs)\n",
    "        self.domain1_var2.on_batch_end(last_output, last_target, **kwargs)\n",
    "        self.domain2_var1.on_batch_end(last_output, last_target, **kwargs)\n",
    "        self.domain2_var2.on_batch_end(last_output, last_target, **kwargs)\n",
    " \n",
    "        \n",
    "    def on_epoch_end(self, last_metrics, **kwargs): \n",
    "        return add_metrics(last_metrics, \n",
    "                           0.3 * self.age._norm_absolute_error() +\n",
    "                           0.175*self.domain1_var1._norm_absolute_error()  +\n",
    "                           0.175*self.domain1_var2._norm_absolute_error()  +\n",
    "                           0.175*self.domain2_var1._norm_absolute_error()  +\n",
    "                           0.175*self.domain2_var2._norm_absolute_error()\n",
    "                          )"
   ]
  },
  {
   "cell_type": "code",
   "execution_count": 6,
   "metadata": {},
   "outputs": [],
   "source": [
    "class Loss_combine(nn.Module):\n",
    "    def __init__(self, loss_weights = [0.4,0.15,0.15,0.15,0.15], loss_base = 'MSE'):\n",
    "        super().__init__()\n",
    "        \n",
    "        self.loss_base = loss_base\n",
    "        \n",
    "        self.loss_weights = loss_weights\n",
    "        self.fw = Tensor(LOSS_WEIGHTS).cuda()\n",
    "        self.student_weight = 0.01 # 0.01 #.1\n",
    "          \n",
    "            \n",
    "    def forward(self, input, target,reduction='mean'): #mean\n",
    "        \n",
    "        x0,x1,x2,x3,x4 = input.T\n",
    "        \n",
    "        if IMPUTATION_STRAT == 'IGNORE_ON_TRAIN':\n",
    "            sg = target.float().sign()\n",
    "            student_fct = (sg==-1)*self.student_weight+(sg==1)*1\n",
    "            x0,x1,x2,x3,x4 = x0.float()*sg[:,0],x1.float()*sg[:,1],x2.float()*sg[:,2],x3.float()*sg[:,3],x4.float()*sg[:,4]\n",
    "        else: # 'MEAN'\n",
    "            sg = 1\n",
    "            student_fct = (sg==-1)*self.student_weight+(sg==1)*(1-self.student_weight)\n",
    "            x0,x1,x2,x3,x4 = x0.float(),x1.float(),x2.float(),x3.float(),x4.float()\n",
    "            \n",
    "        y = target.float()*sg*student_fct\n",
    "        y2 = target.float()*sg*student_fct\n",
    "        loss1 = 0\n",
    "        loss2 = 0\n",
    "        #print('s',x0.std(),y[:,0].std())\n",
    "        #print('m',x0.mean(),y[:,0].mean())\n",
    "        #print('l',F.mse_loss(x0,y[:,0]))\n",
    "        \n",
    "        if self.loss_base in ('MSE','MIX'):\n",
    "            loss_func = F.mse_loss \n",
    "            reduction = 'sum'\n",
    "               \n",
    "            #loss1 = self.fw[0]*loss_func(x0,y[:,0],reduction=reduction)/sum(y[:,0]**2) + \\\n",
    "            #       self.fw[1]*loss_func(x1,y[:,1],reduction=reduction)/sum(y[:,1]**2) + \\\n",
    "            #       self.fw[2]*loss_func(x2,y[:,2],reduction=reduction)/sum(y[:,2]**2) + \\\n",
    "            #       self.fw[3]*loss_func(x3,y[:,3],reduction=reduction)/sum(y[:,3]**2) + \\\n",
    "            #       self.fw[4]*loss_func(x4,y[:,4],reduction=reduction)/sum(y[:,4]**2)\n",
    "           # print('alt',loss1)\n",
    "           # print(loss_func(input,y).shape, self.fw.T.shape)\n",
    "            loss1 = (self.fw*(F.mse_loss(input*sg*student_fct,y,reduction='none').sum(dim=0))/((y**2).sum(dim=0)))\n",
    "                    #*(sg==1)+ \\\n",
    "                    #(self.fw*(F.mse_loss(input*sg*student_fct,y,reduction='none').sum(dim=0))/((y**2).sum(dim=0)))*(sg==-1)\n",
    "            \n",
    "            loss1 = loss1.sum()\n",
    "           # print('neu',loss1)\n",
    "        if self.loss_base in ('L1','MIX'):\n",
    "            loss_func = F.l1_loss \n",
    "            reduction = 'mean'\n",
    "            loss2 =  self.fw[0]*loss_func(x0,y[:,0],reduction=reduction) + \\\n",
    "               self.fw[1]*loss_func(x1,y[:,1],reduction=reduction) + \\\n",
    "               self.fw[2]*loss_func(x2,y[:,2],reduction=reduction) + \\\n",
    "               self.fw[3]*loss_func(x3,y[:,3],reduction=reduction) + \\\n",
    "               self.fw[4]*loss_func(x4,y[:,4],reduction=reduction)\n",
    "            loss2 = loss2/100\n",
    "\n",
    "        if self.loss_base == 'VAR':\n",
    "            epsilon = 1e-5\n",
    "            \n",
    "            #http://www.risknet.de/fileadmin/template_risknet/images_content/Methoden/VaR-Verfahren_RiskNET.pdf\n",
    "            #var:\n",
    "            loss2 = abs((self.fw.T.matmul(cov(input)).matmul(self.fw))**0.5 - \\\n",
    "                        (self.fw.T.matmul(cov(y2)).matmul(self.fw))**0.5)/100 + epsilon\n",
    "            \n",
    "        return loss1 + loss2\n"
   ]
  },
  {
   "cell_type": "code",
   "execution_count": 7,
   "metadata": {},
   "outputs": [],
   "source": [
    "class MRIImageList2(ImageList):\n",
    "    \n",
    "    def __init__(self, *args, **kwargs):\n",
    "        super().__init__(*args, **kwargs)\n",
    "        \n",
    "    \n",
    "    def get(self, i):\n",
    "        fname = self.items[i]\n",
    "        f= h5py.File(fname,'r')\n",
    "        data=f['SM_feature'][()]\n",
    "        \n",
    "        return torch.tensor(data).permute(3,0,1,2).float().div_(255)"
   ]
  },
  {
   "cell_type": "code",
   "execution_count": 8,
   "metadata": {},
   "outputs": [],
   "source": [
    "def data():\n",
    "    return (MRIImageList2.from_df(df = y_data, path=kaggle_input_path, cols=['Id'], folder='fMRI_train', suffix='.mat')\n",
    "          #  .split_none()\n",
    "        #.split_by_idx(valid_idx=range(200,400))\n",
    "        .split_by_rand_pct(valid_pct=0.1)\n",
    "            #.split_by_files(valid_names = [f'valid_{task}_{i}.png' for i in range(task_info[task]['num_test'])])\n",
    "        .label_from_df(cols=DEP_VAR)\n",
    "        #.transform(get_transforms(), tfm_y=True, size=256, padding_mode = 'border')  #256 #xtra_tfms=[cutout(n_holes=(1,8), length=(16, 16), p=.7)]\n",
    "        .databunch(bs=4) #64)\n",
    "        #.normalize(imagenet_stats)\n",
    "       )"
   ]
  },
  {
   "cell_type": "code",
   "execution_count": 9,
   "metadata": {},
   "outputs": [],
   "source": [
    "#https://github.com/fastai/fastai/blob/master/fastai/layers.py#L128\n",
    "class DimConverterBlock3(nn.Module):\n",
    "    \n",
    "    def __init__(self, nf, nc, ni=5):\n",
    "        super(DimConverterBlock3, self).__init__()\n",
    "        \n",
    "        self.num_img = 53\n",
    "        \n",
    "        self.ni = ni\n",
    "        \n",
    "        self.imgnet_mean = tensor([0.485, 0.456, 0.406]).view(1,3,1,1).cuda()\n",
    "        self.imgnet_std = tensor([0.229, 0.224, 0.225]).view(1,3,1,1).cuda()\n",
    "        \n",
    "        self.conv3=nn.ModuleList() ## use ModuleList instead of List to stay on device\n",
    "        self.layers = nn.ModuleList()\n",
    "        for i in range(self.num_img):\n",
    "            self.conv3.append(nn.Conv3d(nf, 3, 3, stride=1, padding =1))\n",
    "\n",
    "            model = create_cnn_model(base_arch=models.resnet18, nc=ni)\n",
    "            apply_init(model[1], nn.init.kaiming_normal_)\n",
    "\n",
    "            self.layers.append(nn.ModuleList(model))\n",
    "        \n",
    "        #self.head_drop = nn.Dropout(0.3)\n",
    "        #self.head_bn = nn.BatchNorm1d(self.num_img*ni)\n",
    "        self.head = nn.Linear(self.num_img*ni, nc)\n",
    "        \n",
    "        self.range = SigmoidRange(Tensor([12,12,0,0,0]).cuda(),Tensor([90,90,100,100,100]).cuda())\n",
    "        \n",
    "        \n",
    "    def forward(self, input):\n",
    "        out=None\n",
    "        \n",
    "        for i in range(self.num_img): \n",
    "            x = self.conv3[i](input)[:,:,:,:,i]\n",
    "            x = x.sub_(self.imgnet_mean).div_(self.imgnet_std) #.view([1,3, 53, 52])\n",
    "\n",
    "            #https://github.com/fastai/fastai/blob/master/fastai/layers.py#L128\n",
    "            res = x\n",
    "            for l in self.layers[i]:\n",
    "                res.orig = x\n",
    "                nres = l(res)\n",
    "                # We have to remove res.orig to avoid hanging refs and therefore memory leaks\n",
    "                res.orig = None\n",
    "                res = nres\n",
    "            \n",
    "            if out == None:\n",
    "                out = res\n",
    "            else:\n",
    "                out = torch.cat([out,res],1) \n",
    "        \n",
    "        #out = self.head_drop(out)\n",
    "        #out = self.head_bn(out)\n",
    "        out = self.head(out)\n",
    "        \n",
    "        return self.range(out) # \n"
   ]
  },
  {
   "cell_type": "code",
   "execution_count": 10,
   "metadata": {},
   "outputs": [
    {
     "name": "stderr",
     "output_type": "stream",
     "text": [
      "Downloading: \"https://download.pytorch.org/models/resnet18-5c106cde.pth\" to /root/.cache/torch/checkpoints/resnet18-5c106cde.pth\n"
     ]
    },
    {
     "data": {
      "application/vnd.jupyter.widget-view+json": {
       "model_id": "b2bfbbdfd406465ea1b24e1c89a0dbcd",
       "version_major": 2,
       "version_minor": 0
      },
      "text/plain": [
       "HBox(children=(FloatProgress(value=0.0, max=46827520.0), HTML(value='')))"
      ]
     },
     "metadata": {},
     "output_type": "display_data"
    },
    {
     "name": "stdout",
     "output_type": "stream",
     "text": [
      "\n"
     ]
    }
   ],
   "source": [
    "datab=data()\n",
    "\n",
    "modelx = DimConverterBlock3(53, 5, 10)  # in, out, intermediate feat\n",
    "\n",
    "learn = Learner(datab,modelx, \n",
    "                    loss_func = Loss_combine(loss_weights = LOSS_WEIGHTS,  \n",
    "                                             loss_base= LOSS_BASE),\n",
    "                        metrics=[mean_absolute_error,explained_variance,r2_score], path='/kaggle/working/')\n",
    "\n",
    "\n",
    "learn.clip_grad = 1.0\n",
    "\n",
    "learn.model.cuda()\n",
    "learn.unfreeze()\n",
    "\n",
    "learn.model_dir='/kaggle/working'"
   ]
  },
  {
   "cell_type": "code",
   "execution_count": 11,
   "metadata": {},
   "outputs": [],
   "source": [
    "#learn.summary()"
   ]
  },
  {
   "cell_type": "code",
   "execution_count": 12,
   "metadata": {},
   "outputs": [
    {
     "data": {
      "text/html": [
       "\n",
       "    <div>\n",
       "        <style>\n",
       "            /* Turns off some styling */\n",
       "            progress {\n",
       "                /* gets rid of default border in Firefox and Opera. */\n",
       "                border: none;\n",
       "                /* Needs to be in here for Safari polyfill so background images work as expected. */\n",
       "                background-size: auto;\n",
       "            }\n",
       "            .progress-bar-interrupted, .progress-bar-interrupted::-webkit-progress-bar {\n",
       "                background: #F44336;\n",
       "            }\n",
       "        </style>\n",
       "      <progress value='0' class='' max='1' style='width:300px; height:20px; vertical-align: middle;'></progress>\n",
       "      0.00% [0/1 00:00<00:00]\n",
       "    </div>\n",
       "    \n",
       "<table border=\"1\" class=\"dataframe\">\n",
       "  <thead>\n",
       "    <tr style=\"text-align: left;\">\n",
       "      <th>epoch</th>\n",
       "      <th>train_loss</th>\n",
       "      <th>valid_loss</th>\n",
       "      <th>mean_absolute_error</th>\n",
       "      <th>explained_variance</th>\n",
       "      <th>r2_score</th>\n",
       "      <th>time</th>\n",
       "    </tr>\n",
       "  </thead>\n",
       "  <tbody>\n",
       "  </tbody>\n",
       "</table><p>\n",
       "\n",
       "    <div>\n",
       "        <style>\n",
       "            /* Turns off some styling */\n",
       "            progress {\n",
       "                /* gets rid of default border in Firefox and Opera. */\n",
       "                border: none;\n",
       "                /* Needs to be in here for Safari polyfill so background images work as expected. */\n",
       "                background-size: auto;\n",
       "            }\n",
       "            .progress-bar-interrupted, .progress-bar-interrupted::-webkit-progress-bar {\n",
       "                background: #F44336;\n",
       "            }\n",
       "        </style>\n",
       "      <progress value='99' class='' max='1322' style='width:300px; height:20px; vertical-align: middle;'></progress>\n",
       "      7.49% [99/1322 04:39<57:33 0.5593]\n",
       "    </div>\n",
       "    "
      ],
      "text/plain": [
       "<IPython.core.display.HTML object>"
      ]
     },
     "metadata": {},
     "output_type": "display_data"
    },
    {
     "name": "stdout",
     "output_type": "stream",
     "text": [
      "LR Finder is complete, type {learner_name}.recorder.plot() to see the graph.\n"
     ]
    }
   ],
   "source": [
    "learn.lr_find()"
   ]
  },
  {
   "cell_type": "code",
   "execution_count": 13,
   "metadata": {},
   "outputs": [
    {
     "name": "stdout",
     "output_type": "stream",
     "text": [
      "Min numerical gradient: 1.32E-04\n",
      "Min loss divided by 10: 1.32E-07\n"
     ]
    },
    {
     "data": {
      "image/png": "[encoded data removed]",
      "text/plain": [
       "<Figure size 432x288 with 1 Axes>"
      ]
     },
     "metadata": {
      "needs_background": "light"
     },
     "output_type": "display_data"
    }
   ],
   "source": [
    "learn.recorder.plot(suggestion=True)"
   ]
  },
  {
   "cell_type": "code",
   "execution_count": 14,
   "metadata": {},
   "outputs": [
    {
     "data": {
      "text/html": [
       "<table border=\"1\" class=\"dataframe\">\n",
       "  <thead>\n",
       "    <tr style=\"text-align: left;\">\n",
       "      <th>epoch</th>\n",
       "      <th>train_loss</th>\n",
       "      <th>valid_loss</th>\n",
       "      <th>mean_absolute_error</th>\n",
       "      <th>explained_variance</th>\n",
       "      <th>r2_score</th>\n",
       "      <th>time</th>\n",
       "    </tr>\n",
       "  </thead>\n",
       "  <tbody>\n",
       "    <tr>\n",
       "      <td>0</td>\n",
       "      <td>0.137450</td>\n",
       "      <td>0.731005</td>\n",
       "      <td>44.708588</td>\n",
       "      <td>-12.154076</td>\n",
       "      <td>-13.101027</td>\n",
       "      <td>1:04:46</td>\n",
       "    </tr>\n",
       "    <tr>\n",
       "      <td>1</td>\n",
       "      <td>0.068081</td>\n",
       "      <td>0.727063</td>\n",
       "      <td>43.826717</td>\n",
       "      <td>-8.136429</td>\n",
       "      <td>-13.021120</td>\n",
       "      <td>1:06:14</td>\n",
       "    </tr>\n",
       "    <tr>\n",
       "      <td>2</td>\n",
       "      <td>0.062564</td>\n",
       "      <td>0.727063</td>\n",
       "      <td>43.826717</td>\n",
       "      <td>-8.136429</td>\n",
       "      <td>-13.021120</td>\n",
       "      <td>1:06:49</td>\n",
       "    </tr>\n",
       "  </tbody>\n",
       "</table>"
      ],
      "text/plain": [
       "<IPython.core.display.HTML object>"
      ]
     },
     "metadata": {},
     "output_type": "display_data"
    }
   ],
   "source": [
    "learn.fit_one_cycle(3,2e-4)"
   ]
  },
  {
   "cell_type": "code",
   "execution_count": 15,
   "metadata": {},
   "outputs": [],
   "source": [
    "learn.export()"
   ]
  },
  {
   "cell_type": "code",
   "execution_count": 16,
   "metadata": {},
   "outputs": [
    {
     "data": {
      "text/html": [],
      "text/plain": [
       "<IPython.core.display.HTML object>"
      ]
     },
     "metadata": {},
     "output_type": "display_data"
    },
    {
     "name": "stdout",
     "output_type": "stream",
     "text": [
      "Without augmentation:\n",
      "Weighted normalized absolute error (Valid): 0.8312325477600098\n",
      "NAE age (Valid): 0.7598637938499451\n",
      "NAE domain1_var1 (Valid): 0.7688924670219421\n",
      "NAE domain1_var2 (Valid): 0.6783841848373413\n",
      "NAE domain2_var1 (Valid): 1.0\n",
      "NAE domain2_var2 (Valid): 1.0\n"
     ]
    },
    {
     "data": {
      "image/png": "[encoded data removed]",
      "text/plain": [
       "<Figure size 1907.25x360 with 5 Axes>"
      ]
     },
     "metadata": {
      "needs_background": "light"
     },
     "output_type": "display_data"
    }
   ],
   "source": [
    "# val\n",
    "yv, yv_truth= learn.get_preds(ds_type=DatasetType.Valid)\n",
    "#yt, yt_truth= learn.get_preds(ds_type=DatasetType.Train)\n",
    "\n",
    "print(f'Without augmentation:')\n",
    "print(f'Weighted normalized absolute error (Valid): {weighted_nae(yv,yv_truth)[-1]}')\n",
    "for i, dv in enumerate(DEP_VAR):\n",
    "    print(f'NAE {dv} (Valid): {weighted_nae(yv,yv_truth)[i]}')\n",
    "plot_diff(yv, yv_truth)"
   ]
  },
  {
   "cell_type": "code",
   "execution_count": null,
   "metadata": {},
   "outputs": [],
   "source": []
  }
 ],
 "metadata": {
  "kernelspec": {
   "display_name": "Python 3",
   "language": "python",
   "name": "python3"
  },
  "language_info": {
   "codemirror_mode": {
    "name": "ipython",
    "version": 3
   },
   "file_extension": ".py",
   "mimetype": "text/x-python",
   "name": "python",
   "nbconvert_exporter": "python",
   "pygments_lexer": "ipython3",
   "version": "3.7.6"
  },
  "widgets": {
   "application/vnd.jupyter.widget-state+json": {
    "state": {
     "099f92f6464541fd8d83c24a565961b1": {
      "model_module": "@jupyter-widgets/controls",
      "model_module_version": "1.5.0",
      "model_name": "DescriptionStyleModel",
      "state": {
       "_model_module": "@jupyter-widgets/controls",
       "_model_module_version": "1.5.0",
       "_model_name": "DescriptionStyleModel",
       "_view_count": null,
       "_view_module": "@jupyter-widgets/base",
       "_view_module_version": "1.2.0",
       "_view_name": "StyleView",
       "description_width": ""
      }
     },
     "36600e36ebcf40c3b1df2454d7043038": {
      "model_module": "@jupyter-widgets/base",
      "model_module_version": "1.2.0",
      "model_name": "LayoutModel",
      "state": {
       "_model_module": "@jupyter-widgets/base",
       "_model_module_version": "1.2.0",
       "_model_name": "LayoutModel",
       "_view_count": null,
       "_view_module": "@jupyter-widgets/base",
       "_view_module_version": "1.2.0",
       "_view_name": "LayoutView",
       "align_content": null,
       "align_items": null,
       "align_self": null,
       "border": null,
       "bottom": null,
       "display": null,
       "flex": null,
       "flex_flow": null,
       "grid_area": null,
       "grid_auto_columns": null,
       "grid_auto_flow": null,
       "grid_auto_rows": null,
       "grid_column": null,
       "grid_gap": null,
       "grid_row": null,
       "grid_template_areas": null,
       "grid_template_columns": null,
       "grid_template_rows": null,
       "height": null,
       "justify_content": null,
       "justify_items": null,
       "left": null,
       "margin": null,
       "max_height": null,
       "max_width": null,
       "min_height": null,
       "min_width": null,
       "object_fit": null,
       "object_position": null,
       "order": null,
       "overflow": null,
       "overflow_x": null,
       "overflow_y": null,
       "padding": null,
       "right": null,
       "top": null,
       "visibility": null,
       "width": null
      }
     },
     "399c587f9bd64668bb90a5eaa7e38352": {
      "model_module": "@jupyter-widgets/controls",
      "model_module_version": "1.5.0",
      "model_name": "HTMLModel",
      "state": {
       "_dom_classes": [],
       "_model_module": "@jupyter-widgets/controls",
       "_model_module_version": "1.5.0",
       "_model_name": "HTMLModel",
       "_view_count": null,
       "_view_module": "@jupyter-widgets/controls",
       "_view_module_version": "1.5.0",
       "_view_name": "HTMLView",
       "description": "",
       "description_tooltip": null,
       "layout": "IPY_MODEL_efbed134c7ed4ec9a775ff4372219339",
       "placeholder": "​",
       "style": "IPY_MODEL_099f92f6464541fd8d83c24a565961b1",
       "value": " 44.7M/44.7M [00:01&lt;00:00, 39.0MB/s]"
      }
     },
     "9a4f6c52f9ef470b8a189d57f1f9e622": {
      "model_module": "@jupyter-widgets/base",
      "model_module_version": "1.2.0",
      "model_name": "LayoutModel",
      "state": {
       "_model_module": "@jupyter-widgets/base",
       "_model_module_version": "1.2.0",
       "_model_name": "LayoutModel",
       "_view_count": null,
       "_view_module": "@jupyter-widgets/base",
       "_view_module_version": "1.2.0",
       "_view_name": "LayoutView",
       "align_content": null,
       "align_items": null,
       "align_self": null,
       "border": null,
       "bottom": null,
       "display": null,
       "flex": null,
       "flex_flow": null,
       "grid_area": null,
       "grid_auto_columns": null,
       "grid_auto_flow": null,
       "grid_auto_rows": null,
       "grid_column": null,
       "grid_gap": null,
       "grid_row": null,
       "grid_template_areas": null,
       "grid_template_columns": null,
       "grid_template_rows": null,
       "height": null,
       "justify_content": null,
       "justify_items": null,
       "left": null,
       "margin": null,
       "max_height": null,
       "max_width": null,
       "min_height": null,
       "min_width": null,
       "object_fit": null,
       "object_position": null,
       "order": null,
       "overflow": null,
       "overflow_x": null,
       "overflow_y": null,
       "padding": null,
       "right": null,
       "top": null,
       "visibility": null,
       "width": null
      }
     },
     "b2bfbbdfd406465ea1b24e1c89a0dbcd": {
      "model_module": "@jupyter-widgets/controls",
      "model_module_version": "1.5.0",
      "model_name": "HBoxModel",
      "state": {
       "_dom_classes": [],
       "_model_module": "@jupyter-widgets/controls",
       "_model_module_version": "1.5.0",
       "_model_name": "HBoxModel",
       "_view_count": null,
       "_view_module": "@jupyter-widgets/controls",
       "_view_module_version": "1.5.0",
       "_view_name": "HBoxView",
       "box_style": "",
       "children": [
        "IPY_MODEL_d79cd8a2244e4705be7ef0f9b685d6e5",
        "IPY_MODEL_399c587f9bd64668bb90a5eaa7e38352"
       ],
       "layout": "IPY_MODEL_9a4f6c52f9ef470b8a189d57f1f9e622"
      }
     },
     "d79cd8a2244e4705be7ef0f9b685d6e5": {
      "model_module": "@jupyter-widgets/controls",
      "model_module_version": "1.5.0",
      "model_name": "FloatProgressModel",
      "state": {
       "_dom_classes": [],
       "_model_module": "@jupyter-widgets/controls",
       "_model_module_version": "1.5.0",
       "_model_name": "FloatProgressModel",
       "_view_count": null,
       "_view_module": "@jupyter-widgets/controls",
       "_view_module_version": "1.5.0",
       "_view_name": "ProgressView",
       "bar_style": "success",
       "description": "100%",
       "description_tooltip": null,
       "layout": "IPY_MODEL_36600e36ebcf40c3b1df2454d7043038",
       "max": 46827520.0,
       "min": 0.0,
       "orientation": "horizontal",
       "style": "IPY_MODEL_daf62733c2ed4c778538acb4fc8ec1fa",
       "value": 46827520.0
      }
     },
     "daf62733c2ed4c778538acb4fc8ec1fa": {
      "model_module": "@jupyter-widgets/controls",
      "model_module_version": "1.5.0",
      "model_name": "ProgressStyleModel",
      "state": {
       "_model_module": "@jupyter-widgets/controls",
       "_model_module_version": "1.5.0",
       "_model_name": "ProgressStyleModel",
       "_view_count": null,
       "_view_module": "@jupyter-widgets/base",
       "_view_module_version": "1.2.0",
       "_view_name": "StyleView",
       "bar_color": null,
       "description_width": "initial"
      }
     },
     "efbed134c7ed4ec9a775ff4372219339": {
      "model_module": "@jupyter-widgets/base",
      "model_module_version": "1.2.0",
      "model_name": "LayoutModel",
      "state": {
       "_model_module": "@jupyter-widgets/base",
       "_model_module_version": "1.2.0",
       "_model_name": "LayoutModel",
       "_view_count": null,
       "_view_module": "@jupyter-widgets/base",
       "_view_module_version": "1.2.0",
       "_view_name": "LayoutView",
       "align_content": null,
       "align_items": null,
       "align_self": null,
       "border": null,
       "bottom": null,
       "display": null,
       "flex": null,
       "flex_flow": null,
       "grid_area": null,
       "grid_auto_columns": null,
       "grid_auto_flow": null,
       "grid_auto_rows": null,
       "grid_column": null,
       "grid_gap": null,
       "grid_row": null,
       "grid_template_areas": null,
       "grid_template_columns": null,
       "grid_template_rows": null,
       "height": null,
       "justify_content": null,
       "justify_items": null,
       "left": null,
       "margin": null,
       "max_height": null,
       "max_width": null,
       "min_height": null,
       "min_width": null,
       "object_fit": null,
       "object_position": null,
       "order": null,
       "overflow": null,
       "overflow_x": null,
       "overflow_y": null,
       "padding": null,
       "right": null,
       "top": null,
       "visibility": null,
       "width": null
      }
     }
    },
    "version_major": 2,
    "version_minor": 0
   }
  }
 },
 "nbformat": 4,
 "nbformat_minor": 4
}
