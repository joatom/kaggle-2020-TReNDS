{
 "cells": [
  {
   "cell_type": "markdown",
   "execution_count": null,
   "metadata": {},
   "source": [
    "## Refeerences\n",
    "\n",
    "Adverserial probabilities from https://www.kaggle.com/joatom/a-test-like-validation-set\n",
    "Other References are inline."
   ]
  },
  {
   "cell_type": "code",
   "execution_count": 1,
   "metadata": {},
   "outputs": [],
   "source": [
    "#!conda install -c conda-forge pandas-profiling -y\n",
    "#!pip install eli5"
   ]
  },
  {
   "cell_type": "code",
   "execution_count": 2,
   "metadata": {},
   "outputs": [],
   "source": [
    "%matplotlib inline"
   ]
  },
  {
   "cell_type": "code",
   "execution_count": 3,
   "metadata": {},
   "outputs": [
    {
     "name": "stderr",
     "output_type": "stream",
     "text": [
      "/opt/conda/lib/python3.7/site-packages/sklearn/utils/deprecation.py:143: FutureWarning: The sklearn.metrics.scorer module is  deprecated in version 0.22 and will be removed in version 0.24. The corresponding classes / functions should instead be imported from sklearn.metrics. Anything that cannot be imported from sklearn.metrics is now part of the private API.\n",
      "  warnings.warn(message, FutureWarning)\n",
      "/opt/conda/lib/python3.7/site-packages/sklearn/utils/deprecation.py:143: FutureWarning: The sklearn.feature_selection.base module is  deprecated in version 0.22 and will be removed in version 0.24. The corresponding classes / functions should instead be imported from sklearn.feature_selection. Anything that cannot be imported from sklearn.feature_selection is now part of the private API.\n",
      "  warnings.warn(message, FutureWarning)\n",
      "Using TensorFlow backend.\n"
     ]
    }
   ],
   "source": [
    "import pandas as pd\n",
    "import numpy as np\n",
    "\n",
    "from sklearn.linear_model import LogisticRegressionCV, LogisticRegression\n",
    "from sklearn.ensemble import RandomForestClassifier\n",
    "from sklearn.model_selection import cross_val_score\n",
    "from sklearn.model_selection import RepeatedKFold, StratifiedKFold, train_test_split\n",
    "from sklearn.pipeline import Pipeline\n",
    "from sklearn.preprocessing import MinMaxScaler, StandardScaler\n",
    "from sklearn.metrics import roc_curve, auc, confusion_matrix, accuracy_score, precision_recall_curve\n",
    "import eli5\n",
    "from eli5.sklearn import PermutationImportance\n",
    "\n",
    "import warnings\n",
    "warnings.filterwarnings('ignore')\n",
    "\n",
    "from pandas_profiling import ProfileReport"
   ]
  },
  {
   "cell_type": "code",
   "execution_count": 4,
   "metadata": {},
   "outputs": [],
   "source": [
    "revs2=pd.read_csv('/kaggle/input/trends-assessment-prediction/reveal_ID_site2.csv')\n",
    "data = pd.read_csv('/kaggle/input/trends-assessment-prediction/loading.csv')\n",
    "y_data = pd.read_csv('/kaggle/input/trends-assessment-prediction/train_scores.csv')"
   ]
  },
  {
   "cell_type": "code",
   "execution_count": 5,
   "metadata": {},
   "outputs": [],
   "source": [
    "s2data = data.merge(revs2)\n",
    "s1data = data.merge(y_data['Id'])\n",
    "\n",
    "y_data['is_test'] = 1\n",
    "train_test = data.merge(y_data[['Id','is_test']], how ='left').fillna(0)\n",
    "#train_test_ids=train_test.pop('Id')"
   ]
  },
  {
   "cell_type": "code",
   "execution_count": 6,
   "metadata": {},
   "outputs": [],
   "source": [
    "#s2data.describe()"
   ]
  },
  {
   "cell_type": "code",
   "execution_count": 7,
   "metadata": {},
   "outputs": [],
   "source": [
    "#s1data.describe()"
   ]
  },
  {
   "cell_type": "markdown",
   "execution_count": null,
   "metadata": {},
   "source": [
    "# Helpers"
   ]
  },
  {
   "cell_type": "code",
   "execution_count": 8,
   "metadata": {},
   "outputs": [],
   "source": [
    "# setup KFold\n",
    "splits = 3\n",
    "#repeats = 2\n",
    "rskf = StratifiedKFold(n_splits=splits, random_state=2020, shuffle=True)"
   ]
  },
  {
   "cell_type": "code",
   "execution_count": 9,
   "metadata": {},
   "outputs": [],
   "source": [
    "# https://www.kaggle.com/ynouri/random-forest-k-fold-cross-validation\n",
    "def compute_roc_auc(X, y, index, clf):\n",
    "    y_predict = clf.predict_proba(X.iloc[index])[:,1]\n",
    "    print(y_predict)\n",
    "    fpr, tpr, thresholds = roc_curve(y.iloc[index], y_predict)\n",
    "    auc_score_roc = auc(fpr, tpr)\n",
    "    # http://www.davidsbatista.net/blog/2018/08/19/NLP_Metrics/\n",
    "    precision, recall, thresholds = precision_recall_curve(y.iloc[index], y_predict)\n",
    "    auc_score_prc = auc(recall, precision)\n",
    "    \n",
    "    return y_predict, auc_score_roc, auc_score_prc"
   ]
  },
  {
   "cell_type": "code",
   "execution_count": 10,
   "metadata": {},
   "outputs": [],
   "source": [
    "def preds(all_data, av_y, oof_df = None):\n",
    "    features=list(set(all_data.columns)-set(['Id']))\n",
    "    # http://fastml.com/adversarial-validation-part-one/\n",
    "    clf = RandomForestClassifier(n_estimators = 100, n_jobs = -1, random_state=2020)\n",
    "\n",
    "    fprs, tprs, scores_roc_train, scores_roc_valid, scores_prc_train, scores_prc_valid = [], [], [], [], [], []\n",
    "    # https://github.com/zygmuntz/adversarial-validation/blob/master/numerai/sort_train.py\n",
    "    predictions = np.zeros(av_y.shape[0])\n",
    "    \n",
    "    if isinstance(oof_df,pd.DataFrame):\n",
    "        oof_df['av_prob']=0\n",
    "        \n",
    "    for (i_train, i_valid), i in zip(rskf.split(all_data[features],av_y),range(splits)):\n",
    "        print('Split', i)\n",
    "        clf.fit(all_data[features].iloc[i_train], av_y.iloc[i_train])\n",
    "\n",
    "        # score\n",
    "        _, auc_score_roc_train, auc_score_prc_train = compute_roc_auc(all_data[features], av_y, i_train, clf)\n",
    "        y_predict, auc_score_roc, auc_score_prc = compute_roc_auc(all_data[features], av_y, i_valid, clf)\n",
    "        predictions[i_valid] = y_predict\n",
    "\n",
    "        #oof\n",
    "        if isinstance(oof_df,pd.DataFrame):\n",
    "            oof_df['av_prob'] += clf.predict_proba(oof_df.iloc[oof_df.index][features])[:,1]/splits\n",
    "        \n",
    "        scores_roc_train.append(auc_score_roc_train)\n",
    "        scores_roc_valid.append(auc_score_roc)\n",
    "        scores_prc_train.append(auc_score_prc_train)\n",
    "        scores_prc_valid.append(auc_score_prc)\n",
    "\n",
    "        # Feature Importance\n",
    "        ## https://towardsdatascience.com/running-random-forests-inspect-the-feature-importances-with-this-code-2b00dd72b92e\n",
    "        clf.score(all_data[features].iloc[i_valid], av_y.iloc[i_valid])\n",
    "        rf_feature_importances = pd.DataFrame(clf.feature_importances_,\n",
    "                                           index = features,\n",
    "                                           columns=['importance']).sort_values('importance', ascending=False)\n",
    "        display(rf_feature_importances.head(10))\n",
    "\n",
    "        # Permutation Importance\n",
    "        #permImp = PermutationImportance(clf, random_state=2021).fit(all_data.iloc[i_valid], av_y.iloc[i_valid]) \n",
    "        #display(eli5.show_weights(permImp, feature_names = all_data.columns.tolist()))\n",
    "\n",
    "    print('Mean Accuracy roc:', np.mean(scores_roc_valid))\n",
    "    print('Mean Accuracy precision recal:', np.mean(scores_roc_valid))\n",
    "    \n",
    "    return predictions, oof_df\n"
   ]
  },
  {
   "cell_type": "markdown",
   "execution_count": null,
   "metadata": {},
   "source": [
    "# AV for train test"
   ]
  },
  {
   "cell_type": "code",
   "execution_count": 11,
   "metadata": {},
   "outputs": [],
   "source": [
    "\n",
    "av_y_tt = train_test.pop('is_test')"
   ]
  },
  {
   "cell_type": "code",
   "execution_count": 12,
   "metadata": {},
   "outputs": [
    {
     "name": "stdout",
     "output_type": "stream",
     "text": [
      "Log Regression Accuracy (RoC): 0.51 (+/- 0.01) [AV LogReg]\n",
      "Random Forrest Accuracy (RoC): 0.71 (+/- 0.00) [AV RandomForestClas]\n"
     ]
    }
   ],
   "source": [
    "\n",
    "# log regression\n",
    "scores = cross_val_score(LogisticRegression(random_state=2020, solver='lbfgs',max_iter=1000), train_test, av_y_tt, cv=rskf, scoring='roc_auc') #'f1'\n",
    "print(\"Log Regression Accuracy (RoC): %0.2f (+/- %0.2f) [%s]\" % (scores.mean(), scores.std(), 'AV LogReg'))\n",
    "\n",
    "# random forrest\n",
    "scores = cross_val_score(RandomForestClassifier(n_estimators = 100, n_jobs = -1, random_state=2020), train_test, av_y_tt, cv=rskf, scoring='roc_auc') #'f1'\n",
    "print(\"Random Forrest Accuracy (RoC): %0.2f (+/- %0.2f) [%s]\" % (scores.mean(), scores.std(), 'AV RandomForestClas'))"
   ]
  },
  {
   "cell_type": "code",
   "execution_count": 13,
   "metadata": {},
   "outputs": [
    {
     "name": "stdout",
     "output_type": "stream",
     "text": [
      "Split 0\n",
      "[0.13 0.94 0.88 ... 0.29 0.93 0.13]\n",
      "[0.52 0.48 0.51 ... 0.57 0.39 0.58]\n"
     ]
    },
    {
     "data": {
      "text/html": [
       "<div>\n",
       "<style scoped>\n",
       "    .dataframe tbody tr th:only-of-type {\n",
       "        vertical-align: middle;\n",
       "    }\n",
       "\n",
       "    .dataframe tbody tr th {\n",
       "        vertical-align: top;\n",
       "    }\n",
       "\n",
       "    .dataframe thead th {\n",
       "        text-align: right;\n",
       "    }\n",
       "</style>\n",
       "<table border=\"1\" class=\"dataframe\">\n",
       "  <thead>\n",
       "    <tr style=\"text-align: right;\">\n",
       "      <th></th>\n",
       "      <th>importance</th>\n",
       "    </tr>\n",
       "  </thead>\n",
       "  <tbody>\n",
       "    <tr>\n",
       "      <th>IC_20</th>\n",
       "      <td>0.121890</td>\n",
       "    </tr>\n",
       "    <tr>\n",
       "      <th>IC_21</th>\n",
       "      <td>0.040354</td>\n",
       "    </tr>\n",
       "    <tr>\n",
       "      <th>IC_18</th>\n",
       "      <td>0.038931</td>\n",
       "    </tr>\n",
       "    <tr>\n",
       "      <th>IC_11</th>\n",
       "      <td>0.038508</td>\n",
       "    </tr>\n",
       "    <tr>\n",
       "      <th>IC_28</th>\n",
       "      <td>0.038123</td>\n",
       "    </tr>\n",
       "    <tr>\n",
       "      <th>IC_05</th>\n",
       "      <td>0.037950</td>\n",
       "    </tr>\n",
       "    <tr>\n",
       "      <th>IC_30</th>\n",
       "      <td>0.037681</td>\n",
       "    </tr>\n",
       "    <tr>\n",
       "      <th>IC_16</th>\n",
       "      <td>0.037402</td>\n",
       "    </tr>\n",
       "    <tr>\n",
       "      <th>IC_24</th>\n",
       "      <td>0.036447</td>\n",
       "    </tr>\n",
       "    <tr>\n",
       "      <th>IC_08</th>\n",
       "      <td>0.035795</td>\n",
       "    </tr>\n",
       "  </tbody>\n",
       "</table>\n",
       "</div>"
      ],
      "text/plain": [
       "       importance\n",
       "IC_20    0.121890\n",
       "IC_21    0.040354\n",
       "IC_18    0.038931\n",
       "IC_11    0.038508\n",
       "IC_28    0.038123\n",
       "IC_05    0.037950\n",
       "IC_30    0.037681\n",
       "IC_16    0.037402\n",
       "IC_24    0.036447\n",
       "IC_08    0.035795"
      ]
     },
     "metadata": {},
     "output_type": "display_data"
    },
    {
     "name": "stdout",
     "output_type": "stream",
     "text": [
      "Split 1\n",
      "[0.78 0.82 0.14 ... 0.14 0.92 0.88]\n",
      "[0.49 0.71 0.27 ... 0.73 0.79 0.42]\n"
     ]
    },
    {
     "data": {
      "text/html": [
       "<div>\n",
       "<style scoped>\n",
       "    .dataframe tbody tr th:only-of-type {\n",
       "        vertical-align: middle;\n",
       "    }\n",
       "\n",
       "    .dataframe tbody tr th {\n",
       "        vertical-align: top;\n",
       "    }\n",
       "\n",
       "    .dataframe thead th {\n",
       "        text-align: right;\n",
       "    }\n",
       "</style>\n",
       "<table border=\"1\" class=\"dataframe\">\n",
       "  <thead>\n",
       "    <tr style=\"text-align: right;\">\n",
       "      <th></th>\n",
       "      <th>importance</th>\n",
       "    </tr>\n",
       "  </thead>\n",
       "  <tbody>\n",
       "    <tr>\n",
       "      <th>IC_20</th>\n",
       "      <td>0.124465</td>\n",
       "    </tr>\n",
       "    <tr>\n",
       "      <th>IC_21</th>\n",
       "      <td>0.042203</td>\n",
       "    </tr>\n",
       "    <tr>\n",
       "      <th>IC_18</th>\n",
       "      <td>0.040982</td>\n",
       "    </tr>\n",
       "    <tr>\n",
       "      <th>IC_28</th>\n",
       "      <td>0.038431</td>\n",
       "    </tr>\n",
       "    <tr>\n",
       "      <th>IC_11</th>\n",
       "      <td>0.038029</td>\n",
       "    </tr>\n",
       "    <tr>\n",
       "      <th>IC_30</th>\n",
       "      <td>0.036868</td>\n",
       "    </tr>\n",
       "    <tr>\n",
       "      <th>IC_05</th>\n",
       "      <td>0.036611</td>\n",
       "    </tr>\n",
       "    <tr>\n",
       "      <th>IC_13</th>\n",
       "      <td>0.035894</td>\n",
       "    </tr>\n",
       "    <tr>\n",
       "      <th>IC_02</th>\n",
       "      <td>0.035570</td>\n",
       "    </tr>\n",
       "    <tr>\n",
       "      <th>IC_17</th>\n",
       "      <td>0.035450</td>\n",
       "    </tr>\n",
       "  </tbody>\n",
       "</table>\n",
       "</div>"
      ],
      "text/plain": [
       "       importance\n",
       "IC_20    0.124465\n",
       "IC_21    0.042203\n",
       "IC_18    0.040982\n",
       "IC_28    0.038431\n",
       "IC_11    0.038029\n",
       "IC_30    0.036868\n",
       "IC_05    0.036611\n",
       "IC_13    0.035894\n",
       "IC_02    0.035570\n",
       "IC_17    0.035450"
      ]
     },
     "metadata": {},
     "output_type": "display_data"
    },
    {
     "name": "stdout",
     "output_type": "stream",
     "text": [
      "Split 2\n",
      "[0.82 0.75 0.19 ... 0.35 0.11 0.76]\n",
      "[0.26 0.76 0.76 ... 0.51 0.3  0.75]\n"
     ]
    },
    {
     "data": {
      "text/html": [
       "<div>\n",
       "<style scoped>\n",
       "    .dataframe tbody tr th:only-of-type {\n",
       "        vertical-align: middle;\n",
       "    }\n",
       "\n",
       "    .dataframe tbody tr th {\n",
       "        vertical-align: top;\n",
       "    }\n",
       "\n",
       "    .dataframe thead th {\n",
       "        text-align: right;\n",
       "    }\n",
       "</style>\n",
       "<table border=\"1\" class=\"dataframe\">\n",
       "  <thead>\n",
       "    <tr style=\"text-align: right;\">\n",
       "      <th></th>\n",
       "      <th>importance</th>\n",
       "    </tr>\n",
       "  </thead>\n",
       "  <tbody>\n",
       "    <tr>\n",
       "      <th>IC_20</th>\n",
       "      <td>0.129842</td>\n",
       "    </tr>\n",
       "    <tr>\n",
       "      <th>IC_21</th>\n",
       "      <td>0.041943</td>\n",
       "    </tr>\n",
       "    <tr>\n",
       "      <th>IC_18</th>\n",
       "      <td>0.038532</td>\n",
       "    </tr>\n",
       "    <tr>\n",
       "      <th>IC_11</th>\n",
       "      <td>0.037547</td>\n",
       "    </tr>\n",
       "    <tr>\n",
       "      <th>IC_28</th>\n",
       "      <td>0.037188</td>\n",
       "    </tr>\n",
       "    <tr>\n",
       "      <th>IC_05</th>\n",
       "      <td>0.036355</td>\n",
       "    </tr>\n",
       "    <tr>\n",
       "      <th>IC_07</th>\n",
       "      <td>0.036156</td>\n",
       "    </tr>\n",
       "    <tr>\n",
       "      <th>IC_24</th>\n",
       "      <td>0.036043</td>\n",
       "    </tr>\n",
       "    <tr>\n",
       "      <th>IC_30</th>\n",
       "      <td>0.035853</td>\n",
       "    </tr>\n",
       "    <tr>\n",
       "      <th>IC_16</th>\n",
       "      <td>0.035710</td>\n",
       "    </tr>\n",
       "  </tbody>\n",
       "</table>\n",
       "</div>"
      ],
      "text/plain": [
       "       importance\n",
       "IC_20    0.129842\n",
       "IC_21    0.041943\n",
       "IC_18    0.038532\n",
       "IC_11    0.037547\n",
       "IC_28    0.037188\n",
       "IC_05    0.036355\n",
       "IC_07    0.036156\n",
       "IC_24    0.036043\n",
       "IC_30    0.035853\n",
       "IC_16    0.035710"
      ]
     },
     "metadata": {},
     "output_type": "display_data"
    },
    {
     "name": "stdout",
     "output_type": "stream",
     "text": [
      "Mean Accuracy roc: 0.711460297681508\n",
      "Mean Accuracy precision recal: 0.711460297681508\n"
     ]
    }
   ],
   "source": [
    "train_test['is_test_prob'], _ = preds(train_test, av_y_tt)"
   ]
  },
  {
   "cell_type": "code",
   "execution_count": 14,
   "metadata": {},
   "outputs": [
    {
     "data": {
      "text/html": [
       "<div>\n",
       "<style scoped>\n",
       "    .dataframe tbody tr th:only-of-type {\n",
       "        vertical-align: middle;\n",
       "    }\n",
       "\n",
       "    .dataframe tbody tr th {\n",
       "        vertical-align: top;\n",
       "    }\n",
       "\n",
       "    .dataframe thead tr th {\n",
       "        text-align: left;\n",
       "    }\n",
       "\n",
       "    .dataframe thead tr:last-of-type th {\n",
       "        text-align: right;\n",
       "    }\n",
       "</style>\n",
       "<table border=\"1\" class=\"dataframe\">\n",
       "  <thead>\n",
       "    <tr>\n",
       "      <th></th>\n",
       "      <th colspan=\"8\" halign=\"left\">is_test_prob</th>\n",
       "    </tr>\n",
       "    <tr>\n",
       "      <th></th>\n",
       "      <th>count</th>\n",
       "      <th>mean</th>\n",
       "      <th>std</th>\n",
       "      <th>min</th>\n",
       "      <th>25%</th>\n",
       "      <th>50%</th>\n",
       "      <th>75%</th>\n",
       "      <th>max</th>\n",
       "    </tr>\n",
       "    <tr>\n",
       "      <th>is_test</th>\n",
       "      <th></th>\n",
       "      <th></th>\n",
       "      <th></th>\n",
       "      <th></th>\n",
       "      <th></th>\n",
       "      <th></th>\n",
       "      <th></th>\n",
       "      <th></th>\n",
       "    </tr>\n",
       "  </thead>\n",
       "  <tbody>\n",
       "    <tr>\n",
       "      <th>0.0</th>\n",
       "      <td>5877.0</td>\n",
       "      <td>0.445020</td>\n",
       "      <td>0.146392</td>\n",
       "      <td>0.08</td>\n",
       "      <td>0.34</td>\n",
       "      <td>0.44</td>\n",
       "      <td>0.55</td>\n",
       "      <td>0.86</td>\n",
       "    </tr>\n",
       "    <tr>\n",
       "      <th>1.0</th>\n",
       "      <td>5877.0</td>\n",
       "      <td>0.555603</td>\n",
       "      <td>0.131807</td>\n",
       "      <td>0.10</td>\n",
       "      <td>0.47</td>\n",
       "      <td>0.57</td>\n",
       "      <td>0.65</td>\n",
       "      <td>0.94</td>\n",
       "    </tr>\n",
       "  </tbody>\n",
       "</table>\n",
       "</div>"
      ],
      "text/plain": [
       "        is_test_prob                                                  \n",
       "               count      mean       std   min   25%   50%   75%   max\n",
       "is_test                                                               \n",
       "0.0           5877.0  0.445020  0.146392  0.08  0.34  0.44  0.55  0.86\n",
       "1.0           5877.0  0.555603  0.131807  0.10  0.47  0.57  0.65  0.94"
      ]
     },
     "execution_count": 14,
     "metadata": {},
     "output_type": "execute_result"
    }
   ],
   "source": [
    "train_test['is_test']=av_y_tt\n",
    "train_test.groupby(['is_test']).describe()[['is_test_prob']]"
   ]
  },
  {
   "cell_type": "code",
   "execution_count": 15,
   "metadata": {},
   "outputs": [],
   "source": [
    "train_test = train_test.drop('is_test',axis=1)"
   ]
  },
  {
   "cell_type": "markdown",
   "execution_count": null,
   "metadata": {},
   "source": [
    "# AV for site2"
   ]
  },
  {
   "cell_type": "code",
   "execution_count": 16,
   "metadata": {},
   "outputs": [],
   "source": [
    "s2data['is_site2']=1\n",
    "s1data['is_site2']=0\n",
    "\n",
    "train_s2test = s2data.append(s1data)\n",
    "#train_s2test_ids = train_s2test.pop('Id')\n",
    "\n",
    "av_y = train_s2test.pop('is_site2')"
   ]
  },
  {
   "cell_type": "code",
   "execution_count": 17,
   "metadata": {},
   "outputs": [
    {
     "name": "stdout",
     "output_type": "stream",
     "text": [
      "Log Regression Accuracy (RoC): 0.48 (+/- 0.01) [AV LogReg]\n",
      "Random Forrest Accuracy (RoC): 0.81 (+/- 0.01) [AV RandomForestClas]\n"
     ]
    }
   ],
   "source": [
    "\n",
    "# log regression\n",
    "scores = cross_val_score(LogisticRegression(random_state=2020, solver='lbfgs',max_iter=1000), train_s2test, av_y, cv=rskf, scoring='roc_auc') #'f1'\n",
    "print(\"Log Regression Accuracy (RoC): %0.2f (+/- %0.2f) [%s]\" % (scores.mean(), scores.std(), 'AV LogReg'))\n",
    "\n",
    "# random forrest\n",
    "scores = cross_val_score(RandomForestClassifier(n_estimators = 100, n_jobs = -1, random_state=2020), train_s2test, av_y, cv=rskf, scoring='roc_auc') #'f1'\n",
    "print(\"Random Forrest Accuracy (RoC): %0.2f (+/- %0.2f) [%s]\" % (scores.mean(), scores.std(), 'AV RandomForestClas'))"
   ]
  },
  {
   "cell_type": "code",
   "execution_count": 18,
   "metadata": {},
   "outputs": [
    {
     "name": "stdout",
     "output_type": "stream",
     "text": [
      "Split 0\n",
      "[0.69 0.78 0.67 ... 0.01 0.01 0.  ]\n",
      "[0.24 0.32 0.11 ... 0.08 0.08 0.08]\n"
     ]
    },
    {
     "data": {
      "text/html": [
       "<div>\n",
       "<style scoped>\n",
       "    .dataframe tbody tr th:only-of-type {\n",
       "        vertical-align: middle;\n",
       "    }\n",
       "\n",
       "    .dataframe tbody tr th {\n",
       "        vertical-align: top;\n",
       "    }\n",
       "\n",
       "    .dataframe thead th {\n",
       "        text-align: right;\n",
       "    }\n",
       "</style>\n",
       "<table border=\"1\" class=\"dataframe\">\n",
       "  <thead>\n",
       "    <tr style=\"text-align: right;\">\n",
       "      <th></th>\n",
       "      <th>importance</th>\n",
       "    </tr>\n",
       "  </thead>\n",
       "  <tbody>\n",
       "    <tr>\n",
       "      <th>IC_20</th>\n",
       "      <td>0.142045</td>\n",
       "    </tr>\n",
       "    <tr>\n",
       "      <th>IC_18</th>\n",
       "      <td>0.059396</td>\n",
       "    </tr>\n",
       "    <tr>\n",
       "      <th>IC_11</th>\n",
       "      <td>0.046002</td>\n",
       "    </tr>\n",
       "    <tr>\n",
       "      <th>IC_10</th>\n",
       "      <td>0.039022</td>\n",
       "    </tr>\n",
       "    <tr>\n",
       "      <th>IC_05</th>\n",
       "      <td>0.038390</td>\n",
       "    </tr>\n",
       "    <tr>\n",
       "      <th>IC_09</th>\n",
       "      <td>0.037573</td>\n",
       "    </tr>\n",
       "    <tr>\n",
       "      <th>IC_04</th>\n",
       "      <td>0.035975</td>\n",
       "    </tr>\n",
       "    <tr>\n",
       "      <th>IC_16</th>\n",
       "      <td>0.035623</td>\n",
       "    </tr>\n",
       "    <tr>\n",
       "      <th>IC_06</th>\n",
       "      <td>0.035223</td>\n",
       "    </tr>\n",
       "    <tr>\n",
       "      <th>IC_30</th>\n",
       "      <td>0.035077</td>\n",
       "    </tr>\n",
       "  </tbody>\n",
       "</table>\n",
       "</div>"
      ],
      "text/plain": [
       "       importance\n",
       "IC_20    0.142045\n",
       "IC_18    0.059396\n",
       "IC_11    0.046002\n",
       "IC_10    0.039022\n",
       "IC_05    0.038390\n",
       "IC_09    0.037573\n",
       "IC_04    0.035975\n",
       "IC_16    0.035623\n",
       "IC_06    0.035223\n",
       "IC_30    0.035077"
      ]
     },
     "metadata": {},
     "output_type": "display_data"
    },
    {
     "name": "stdout",
     "output_type": "stream",
     "text": [
      "Split 1\n",
      "[0.64 0.68 0.7  ... 0.03 0.02 0.  ]\n",
      "[0.21 0.44 0.16 ... 0.19 0.02 0.02]\n"
     ]
    },
    {
     "data": {
      "text/html": [
       "<div>\n",
       "<style scoped>\n",
       "    .dataframe tbody tr th:only-of-type {\n",
       "        vertical-align: middle;\n",
       "    }\n",
       "\n",
       "    .dataframe tbody tr th {\n",
       "        vertical-align: top;\n",
       "    }\n",
       "\n",
       "    .dataframe thead th {\n",
       "        text-align: right;\n",
       "    }\n",
       "</style>\n",
       "<table border=\"1\" class=\"dataframe\">\n",
       "  <thead>\n",
       "    <tr style=\"text-align: right;\">\n",
       "      <th></th>\n",
       "      <th>importance</th>\n",
       "    </tr>\n",
       "  </thead>\n",
       "  <tbody>\n",
       "    <tr>\n",
       "      <th>IC_20</th>\n",
       "      <td>0.129514</td>\n",
       "    </tr>\n",
       "    <tr>\n",
       "      <th>IC_18</th>\n",
       "      <td>0.055355</td>\n",
       "    </tr>\n",
       "    <tr>\n",
       "      <th>IC_11</th>\n",
       "      <td>0.047623</td>\n",
       "    </tr>\n",
       "    <tr>\n",
       "      <th>IC_21</th>\n",
       "      <td>0.040120</td>\n",
       "    </tr>\n",
       "    <tr>\n",
       "      <th>IC_16</th>\n",
       "      <td>0.039416</td>\n",
       "    </tr>\n",
       "    <tr>\n",
       "      <th>IC_05</th>\n",
       "      <td>0.037912</td>\n",
       "    </tr>\n",
       "    <tr>\n",
       "      <th>IC_28</th>\n",
       "      <td>0.037778</td>\n",
       "    </tr>\n",
       "    <tr>\n",
       "      <th>IC_04</th>\n",
       "      <td>0.036049</td>\n",
       "    </tr>\n",
       "    <tr>\n",
       "      <th>IC_30</th>\n",
       "      <td>0.035712</td>\n",
       "    </tr>\n",
       "    <tr>\n",
       "      <th>IC_24</th>\n",
       "      <td>0.034507</td>\n",
       "    </tr>\n",
       "  </tbody>\n",
       "</table>\n",
       "</div>"
      ],
      "text/plain": [
       "       importance\n",
       "IC_20    0.129514\n",
       "IC_18    0.055355\n",
       "IC_11    0.047623\n",
       "IC_21    0.040120\n",
       "IC_16    0.039416\n",
       "IC_05    0.037912\n",
       "IC_28    0.037778\n",
       "IC_04    0.036049\n",
       "IC_30    0.035712\n",
       "IC_24    0.034507"
      ]
     },
     "metadata": {},
     "output_type": "display_data"
    },
    {
     "name": "stdout",
     "output_type": "stream",
     "text": [
      "Split 2\n",
      "[0.68 0.73 0.62 ... 0.03 0.   0.01]\n",
      "[0.04 0.2  0.07 ... 0.07 0.02 0.01]\n"
     ]
    },
    {
     "data": {
      "text/html": [
       "<div>\n",
       "<style scoped>\n",
       "    .dataframe tbody tr th:only-of-type {\n",
       "        vertical-align: middle;\n",
       "    }\n",
       "\n",
       "    .dataframe tbody tr th {\n",
       "        vertical-align: top;\n",
       "    }\n",
       "\n",
       "    .dataframe thead th {\n",
       "        text-align: right;\n",
       "    }\n",
       "</style>\n",
       "<table border=\"1\" class=\"dataframe\">\n",
       "  <thead>\n",
       "    <tr style=\"text-align: right;\">\n",
       "      <th></th>\n",
       "      <th>importance</th>\n",
       "    </tr>\n",
       "  </thead>\n",
       "  <tbody>\n",
       "    <tr>\n",
       "      <th>IC_20</th>\n",
       "      <td>0.128818</td>\n",
       "    </tr>\n",
       "    <tr>\n",
       "      <th>IC_18</th>\n",
       "      <td>0.061521</td>\n",
       "    </tr>\n",
       "    <tr>\n",
       "      <th>IC_05</th>\n",
       "      <td>0.043062</td>\n",
       "    </tr>\n",
       "    <tr>\n",
       "      <th>IC_11</th>\n",
       "      <td>0.041748</td>\n",
       "    </tr>\n",
       "    <tr>\n",
       "      <th>IC_24</th>\n",
       "      <td>0.038201</td>\n",
       "    </tr>\n",
       "    <tr>\n",
       "      <th>IC_16</th>\n",
       "      <td>0.038098</td>\n",
       "    </tr>\n",
       "    <tr>\n",
       "      <th>IC_08</th>\n",
       "      <td>0.037080</td>\n",
       "    </tr>\n",
       "    <tr>\n",
       "      <th>IC_02</th>\n",
       "      <td>0.037076</td>\n",
       "    </tr>\n",
       "    <tr>\n",
       "      <th>IC_07</th>\n",
       "      <td>0.036934</td>\n",
       "    </tr>\n",
       "    <tr>\n",
       "      <th>IC_06</th>\n",
       "      <td>0.035949</td>\n",
       "    </tr>\n",
       "  </tbody>\n",
       "</table>\n",
       "</div>"
      ],
      "text/plain": [
       "       importance\n",
       "IC_20    0.128818\n",
       "IC_18    0.061521\n",
       "IC_05    0.043062\n",
       "IC_11    0.041748\n",
       "IC_24    0.038201\n",
       "IC_16    0.038098\n",
       "IC_08    0.037080\n",
       "IC_02    0.037076\n",
       "IC_07    0.036934\n",
       "IC_06    0.035949"
      ]
     },
     "metadata": {},
     "output_type": "display_data"
    },
    {
     "name": "stdout",
     "output_type": "stream",
     "text": [
      "Mean Accuracy roc: 0.8193265871943468\n",
      "Mean Accuracy precision recal: 0.8193265871943468\n"
     ]
    }
   ],
   "source": [
    "train_s2test['p'], train_test = preds(train_s2test, av_y, train_test)"
   ]
  },
  {
   "cell_type": "code",
   "execution_count": 19,
   "metadata": {},
   "outputs": [
    {
     "data": {
      "text/html": [
       "<div>\n",
       "<style scoped>\n",
       "    .dataframe tbody tr th:only-of-type {\n",
       "        vertical-align: middle;\n",
       "    }\n",
       "\n",
       "    .dataframe tbody tr th {\n",
       "        vertical-align: top;\n",
       "    }\n",
       "\n",
       "    .dataframe thead tr th {\n",
       "        text-align: left;\n",
       "    }\n",
       "\n",
       "    .dataframe thead tr:last-of-type th {\n",
       "        text-align: right;\n",
       "    }\n",
       "</style>\n",
       "<table border=\"1\" class=\"dataframe\">\n",
       "  <thead>\n",
       "    <tr>\n",
       "      <th></th>\n",
       "      <th colspan=\"8\" halign=\"left\">p</th>\n",
       "    </tr>\n",
       "    <tr>\n",
       "      <th></th>\n",
       "      <th>count</th>\n",
       "      <th>mean</th>\n",
       "      <th>std</th>\n",
       "      <th>min</th>\n",
       "      <th>25%</th>\n",
       "      <th>50%</th>\n",
       "      <th>75%</th>\n",
       "      <th>max</th>\n",
       "    </tr>\n",
       "    <tr>\n",
       "      <th>is_s2</th>\n",
       "      <th></th>\n",
       "      <th></th>\n",
       "      <th></th>\n",
       "      <th></th>\n",
       "      <th></th>\n",
       "      <th></th>\n",
       "      <th></th>\n",
       "      <th></th>\n",
       "    </tr>\n",
       "  </thead>\n",
       "  <tbody>\n",
       "    <tr>\n",
       "      <th>0</th>\n",
       "      <td>5877.0</td>\n",
       "      <td>0.076338</td>\n",
       "      <td>0.079247</td>\n",
       "      <td>0.0</td>\n",
       "      <td>0.02</td>\n",
       "      <td>0.05</td>\n",
       "      <td>0.10</td>\n",
       "      <td>0.57</td>\n",
       "    </tr>\n",
       "    <tr>\n",
       "      <th>1</th>\n",
       "      <td>510.0</td>\n",
       "      <td>0.216588</td>\n",
       "      <td>0.143897</td>\n",
       "      <td>0.0</td>\n",
       "      <td>0.09</td>\n",
       "      <td>0.19</td>\n",
       "      <td>0.32</td>\n",
       "      <td>0.67</td>\n",
       "    </tr>\n",
       "  </tbody>\n",
       "</table>\n",
       "</div>"
      ],
      "text/plain": [
       "            p                                                 \n",
       "        count      mean       std  min   25%   50%   75%   max\n",
       "is_s2                                                         \n",
       "0      5877.0  0.076338  0.079247  0.0  0.02  0.05  0.10  0.57\n",
       "1       510.0  0.216588  0.143897  0.0  0.09  0.19  0.32  0.67"
      ]
     },
     "execution_count": 19,
     "metadata": {},
     "output_type": "execute_result"
    }
   ],
   "source": [
    "train_s2test['is_s2']=av_y\n",
    "train_s2test.groupby(['is_s2']).describe()[['p']]"
   ]
  },
  {
   "cell_type": "code",
   "execution_count": 20,
   "metadata": {},
   "outputs": [],
   "source": [
    "train_test.columns.av_prob  = 'site2_prob'"
   ]
  },
  {
   "cell_type": "code",
   "execution_count": 21,
   "metadata": {},
   "outputs": [],
   "source": [
    "# override with validation data to not overfit to known train_tests2 data"
   ]
  },
  {
   "cell_type": "code",
   "execution_count": 22,
   "metadata": {},
   "outputs": [],
   "source": [
    "train_test=train_test.merge(train_s2test[['Id', 'p']], how='left')"
   ]
  },
  {
   "cell_type": "code",
   "execution_count": 23,
   "metadata": {},
   "outputs": [],
   "source": [
    "train_test['is_site2_prob'] = train_test['p'].combine_first(train_test['av_prob'])"
   ]
  },
  {
   "cell_type": "code",
   "execution_count": 24,
   "metadata": {},
   "outputs": [],
   "source": [
    "train_test[['Id','is_test_prob','is_site2_prob']].to_csv('test_s2_probs.csv', index=False)"
   ]
  },
  {
   "cell_type": "code",
   "execution_count": null,
   "metadata": {},
   "outputs": [],
   "source": []
  }
 ],
 "metadata": {
  "kernelspec": {
   "display_name": "Python [conda env:fastai]",
   "language": "python",
   "name": "python3"
  },
  "language_info": {
   "codemirror_mode": {
    "name": "ipython",
    "version": 3
   },
   "file_extension": ".py",
   "mimetype": "text/x-python",
   "name": "python",
   "nbconvert_exporter": "python",
   "pygments_lexer": "ipython3",
   "version": "3.7.6"
  }
 },
 "nbformat": 4,
 "nbformat_minor": 4
}
