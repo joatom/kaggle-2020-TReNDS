{
 "cells": [
  {
   "cell_type": "markdown",
   "execution_count": null,
   "metadata": {},
   "source": [
    "Just getting started ..."
   ]
  },
  {
   "cell_type": "code",
   "execution_count": 1,
   "metadata": {
    "_cell_guid": "b1076dfc-b9ad-4769-8c92-a6c4dae69d19",
    "_uuid": "8f2839f25d086af736a60e9eeb907d3b93b6e0e5"
   },
   "outputs": [],
   "source": [
    "import numpy as np\n",
    "import pandas as pd\n",
    "\n",
    "from pathlib import Path\n",
    "from matplotlib import pyplot as plt\n",
    "import seaborn as sns\n",
    "\n",
    "import h5py\n",
    "\n",
    "#import torch\n",
    "import torch.nn.functional as F\n",
    "\n",
    "from sklearn.model_selection import KFold, RepeatedKFold, StratifiedKFold\n",
    "\n",
    "from fastai.vision import * \n",
    "from fastai import *\n",
    "\n",
    "import os, shutil\n",
    "import sys\n",
    "\n",
    "# Input data files are available in the read-only \"../input/\" directory\n",
    "# For example, running this (by clicking run or pressing Shift+Enter) will list all files under the input directory\n",
    "\n",
    "import os\n",
    "#for dirname, _, filenames in os.walk('/kaggle/input'):\n",
    "#    for filename in filenames:\n",
    "#        print(os.path.join(dirname, filename))\n",
    "\n",
    "# You can write up to 5GB to the current directory (/kaggle/working/) that gets preserved as output when you create a version using \"Save & Run All\" \n",
    "# You can also write temporary files to /kaggle/temp/, but they won't be saved outside of the current session"
   ]
  },
  {
   "cell_type": "code",
   "execution_count": 2,
   "metadata": {
    "_cell_guid": "79c7e3d0-c299-4dcb-8224-4455121ee9b0",
    "_uuid": "d629ff2d2480ee46fbb7e2d37f6b5fab8052498a"
   },
   "outputs": [],
   "source": [
    "kaggle_path = Path('.') # '.'\n",
    "kaggle_input_path = Path('/kaggle/input/trends-assessment-prediction') # '/kaggle/input/trends-assessment-prediction'\n",
    "mri_train_path = Path('/kaggle/input/trends-assessment-prediction/fMRI_train') #fMRI_train\n"
   ]
  },
  {
   "cell_type": "code",
   "execution_count": 3,
   "metadata": {},
   "outputs": [],
   "source": [
    "IMPUTATION_STRAT = 'IGNORE_ON_TRAIN' # 'IGNORE_ON_TRAIN', 'MEAN' \n",
    "LOSS_BASE = 'MSE' # 'MSE' # 'L1' 'MIX' 'VAR'\n",
    "LOSS_WEIGHTS = [0.3, 0.175, 0.175, 0.175, 0.175] #[0.2,0.2,0.2,0.2,0.2] #[0,0,0,0,1]#\n",
    "\n",
    "DEP_VAR = ['age','domain1_var1','domain1_var2', 'domain2_var1', 'domain2_var2']\n",
    "\n",
    "bs=4"
   ]
  },
  {
   "cell_type": "markdown",
   "execution_count": null,
   "metadata": {},
   "source": [
    "TODO:add test to y_data and change dataloader, so it picks img from test and train folder"
   ]
  },
  {
   "cell_type": "code",
   "execution_count": 4,
   "metadata": {},
   "outputs": [],
   "source": [
    "y_data = pd.read_csv(kaggle_input_path/'train_scores.csv')\n",
    "y_data = y_data.fillna(0)\n"
   ]
  },
  {
   "cell_type": "code",
   "execution_count": 5,
   "metadata": {},
   "outputs": [
    {
     "data": {
      "text/plain": [
       "(1, 53, 52, 63, 53)"
      ]
     },
     "execution_count": 5,
     "metadata": {},
     "output_type": "execute_result"
    }
   ],
   "source": [
    "f= h5py.File(mri_train_path/'10001.mat','r')\n",
    "data=f['SM_feature'][()]\n",
    "data.reshape(1,53,52,63,53).shape "
   ]
  },
  {
   "cell_type": "code",
   "execution_count": 6,
   "metadata": {},
   "outputs": [],
   "source": [
    "class MRIImageList2(ImageList):\n",
    "    \n",
    "    def __init__(self, *args, **kwargs):\n",
    "        super().__init__(*args, **kwargs)\n",
    "        \n",
    "    \n",
    "    def get(self, i):\n",
    "        fname = self.items[i]\n",
    "        \n",
    "        f= h5py.File(fname,'r')\n",
    "        data=f['SM_feature'][()]\n",
    "        \n",
    "        return torch.tensor(data).permute(3,1,0,2).float()\n",
    "\n",
    "\n",
    "class MRIImageList2_Target(ImageList):\n",
    "    \n",
    "    def __init__(self, *args, **kwargs):\n",
    "        super().__init__(*args, **kwargs)\n",
    "        \n",
    "    \n",
    "    def get(self, i):\n",
    "        \n",
    "        y_features = torch.tensor(y_data.iloc[i].values[1:]).float()\n",
    "        \n",
    "        fname = self.items[i]\n",
    "        \n",
    "        f= h5py.File(fname,'r')\n",
    "        imgdata=f['SM_feature'][()]\n",
    "        imgdata=torch.tensor(imgdata).permute(3,1,0,2).float().flatten()\n",
    "        \n",
    "        return torch.cat((imgdata, y_features) ,-1)\n"
   ]
  },
  {
   "cell_type": "code",
   "execution_count": 7,
   "metadata": {},
   "outputs": [],
   "source": [
    "\n",
    "#https://github.com/fastai/fastai/blob/master/fastai/vision/data.py#L414\n",
    "class MRIImageImageList2(MRIImageList2):\n",
    "    \"`ItemList` suitable for `Image` to `Image` tasks.\"\n",
    "    _label_cls, _square_show, _square_show_res = MRIImageList2_Target, False, False"
   ]
  },
  {
   "cell_type": "code",
   "execution_count": 8,
   "metadata": {},
   "outputs": [],
   "source": [
    "\n",
    "def data():\n",
    "    return (MRIImageImageList2.from_df(df = y_data, path=kaggle_input_path, cols=['Id'], folder='fMRI_train', suffix='.mat')\n",
    "          #  .split_none()\n",
    "        #.split_by_idx(valid_idx=range(200,400))\n",
    "        .split_by_rand_pct(0.1)    \n",
    "        #.split_by_files(valid_names = [f'valid_{task}_{i}.png' for i in range(task_info[task]['num_test'])])\n",
    "        #.label_from_df(cols=DEP_VAR)\n",
    "        .label_from_func(lambda x: x) #range(10)\n",
    "        #.transform(get_transforms(), tfm_y=True, size=256, padding_mode = 'border')  #256 #xtra_tfms=[cutout(n_holes=(1,8), length=(16, 16), p=.7)]\n",
    "        .databunch(bs=bs) #64)\n",
    "        #.normalize(imagenet_stats)\n",
    "       )"
   ]
  },
  {
   "cell_type": "markdown",
   "execution_count": null,
   "metadata": {},
   "source": [
    "Loss function combines autoencoder image generating loss and feature loss, if features are the 5 target variables (0 values are ignored, so test data could be included)"
   ]
  },
  {
   "cell_type": "code",
   "execution_count": 9,
   "metadata": {},
   "outputs": [],
   "source": [
    "class Mixed_Loss(nn.Module):\n",
    "    def __init__(self, loss_weights = [0.4,0.15,0.15,0.15,0.15], loss_base = 'MSE', bs=64):\n",
    "        super().__init__()\n",
    "        \n",
    "        self.bs=bs\n",
    "        \n",
    "        self.loss_base = loss_base\n",
    "        \n",
    "        self.loss_weights = loss_weights\n",
    "        self.fw = Tensor(LOSS_WEIGHTS).cuda()\n",
    "        self.student_weight = 0.01 # 0.01 #.1\n",
    "          \n",
    "            \n",
    "    def forward(self, input, target,reduction='sum'): #mean\n",
    "        autoencoder_loss = F.mse_loss(input[:,:-5], target[:,:-5], reduction='mean') * bs #view(self.bs,-1))\n",
    "        \n",
    "        #return autoencoder_loss\n",
    "        \n",
    "        features = input[:,-5:].T\n",
    "        target_feat = target[:,-5:]\n",
    "        \n",
    "        x0,x1,x2,x3,x4 = features\n",
    "        \n",
    "        ## use sign for 0 imputeted empty targets, so they wan't be evaluated\n",
    "        if IMPUTATION_STRAT == 'IGNORE_ON_TRAIN':\n",
    "            sg = target_feat.float().sign()\n",
    "            x0,x1,x2,x3,x4 = x0.float()*sg[:,0],x1.float()*sg[:,1],x2.float()*sg[:,2],x3.float()*sg[:,3],x4.float()*sg[:,4]\n",
    "        else: # 'MEAN'\n",
    "            sg = 1\n",
    "            x0,x1,x2,x3,x4 = x0.float(),x1.float(),x2.float(),x3.float(),x4.float()\n",
    "            \n",
    "        y = target_feat.float()*sg\n",
    "        \n",
    "        loss1 = 0\n",
    "        loss2 = 0\n",
    "        if self.loss_base in ('MSE','MIX'):\n",
    "            loss_func = F.mse_loss \n",
    "            #reduction = 'sum'\n",
    "            #loss1 = self.fw[0]*loss_func(x0,y[:,0],reduction=reduction)/sum(y[:,0]**2) + \\\n",
    "            #   self.fw[1]*loss_func(x1,y[:,1],reduction=reduction)/sum(y[:,1]**2) + \\\n",
    "            #   self.fw[2]*loss_func(x2,y[:,2],reduction=reduction)/sum(y[:,2]**2) + \\\n",
    "            #   self.fw[3]*loss_func(x3,y[:,3],reduction=reduction)/sum(y[:,3]**2) + \\\n",
    "            #   self.fw[4]*loss_func(x4,y[:,4],reduction=reduction)/sum(y[:,4]**2)\n",
    "            \n",
    "            loss1 = (self.fw*(F.mse_loss(features.T*sg,y,reduction='none').sum(dim=0))/((y**2.5).sum(dim=0)))*3\n",
    "            loss1 = loss1.sum()*self.bs\n",
    "        \n",
    "        if self.loss_base in ('L1','MIX'):\n",
    "            loss_func = F.l1_loss \n",
    "            #reduction = 'mean'\n",
    "            #loss2 =  self.fw[0]*loss_func(x0,y[:,0],reduction=reduction) + \\\n",
    "            #   self.fw[1]*loss_func(x1,y[:,1],reduction=reduction) + \\\n",
    "            #   self.fw[2]*loss_func(x2,y[:,2],reduction=reduction) + \\\n",
    "            #   self.fw[3]*loss_func(x3,y[:,3],reduction=reduction) + \\\n",
    "            #   self.fw[4]*loss_func(x4,y[:,4],reduction=reduction)\n",
    "            \n",
    "            reduction = 'sum'\n",
    "            loss2 =  self.fw[0]*loss_func(x0,y[:,0],reduction=reduction)/sum(y[:,0]) + \\\n",
    "               self.fw[1]*loss_func(x1,y[:,1],reduction=reduction)/sum(y[:,1]) + \\\n",
    "               self.fw[2]*loss_func(x2,y[:,2],reduction=reduction)/sum(y[:,2]) + \\\n",
    "               self.fw[3]*loss_func(x3,y[:,3],reduction=reduction)/sum(y[:,3]) + \\\n",
    "               self.fw[4]*loss_func(x4,y[:,4],reduction=reduction)/sum(y[:,4])\n",
    "            loss2 = loss2*self.bs/4\n",
    "\n",
    "        return autoencoder_loss/10 + loss1 + loss2 \n"
   ]
  },
  {
   "cell_type": "code",
   "execution_count": 10,
   "metadata": {},
   "outputs": [],
   "source": [
    "class AutoEncoderBlock(nn.Module):\n",
    "    \n",
    "    def __init__(self, nf):\n",
    "        super(AutoEncoderBlock, self).__init__()\n",
    "        \n",
    "        track_running_stats = True\n",
    "        affine=True\n",
    "        \n",
    "        self.encoder3d = nn.Sequential(\n",
    "            # since gradients are accum over several batches dont use batchnorm, see\n",
    "            # https://docs.fast.ai/train.html#AccumulateScheduler\n",
    "            nn.InstanceNorm3d(53, track_running_stats=track_running_stats, affine=affine),\n",
    "            nn.Conv3d(nf, 10, 7, stride=(1,2,2), padding =3),\n",
    "            nn.LeakyReLU(0.1),\n",
    "            \n",
    "            nn.Dropout3d(0.1),\n",
    "            #Lambda(lambda x: x.sin()),\n",
    "            nn.InstanceNorm3d(10, track_running_stats=track_running_stats, affine=affine),\n",
    "            nn.Conv3d(10, 1, 5, stride=1, padding = 2),\n",
    "            \n",
    "            #Lambda(lambda x: x.sin())\n",
    "            nn.LeakyReLU(0.1),\n",
    "            nn.Dropout3d(0.1)\n",
    "        )\n",
    "        \n",
    "        self.encoder2d = nn.Sequential(\n",
    "            nn.InstanceNorm2d(52, track_running_stats=track_running_stats, affine=affine),\n",
    "            nn.Conv2d(52, 3, 1, stride=1, padding =0),\n",
    "            nn.LeakyReLU(0.1),\n",
    "            nn.Dropout2d(0.1)\n",
    "            #Lambda(lambda x: x.sin()),\n",
    "        )\n",
    "        \n",
    "        self.decoder2d = nn.Sequential(\n",
    "            \n",
    "            nn.InstanceNorm2d(3, track_running_stats=track_running_stats, affine=affine),\n",
    "            nn.ConvTranspose2d(3, 52, 1, stride=1, padding = 0),\n",
    "            nn.LeakyReLU(0.1),\n",
    "            nn.Dropout2d(0.1)\n",
    "        )\n",
    "        \n",
    "        self.decoder3d = nn.Sequential(\n",
    "            \n",
    "            nn.InstanceNorm3d(1, track_running_stats=track_running_stats, affine=affine),\n",
    "            nn.ConvTranspose3d(1, 10, 5, stride=1, padding = 2),\n",
    "            nn.LeakyReLU(0.1),\n",
    "            nn.Dropout3d(0.1),\n",
    "            \n",
    "            nn.InstanceNorm3d(10, track_running_stats=track_running_stats, affine=affine),\n",
    "            nn.ConvTranspose3d(10, nf, 7, stride=(1,2,2), padding = 3),\n",
    "            \n",
    "            nn.Flatten(),\n",
    "            nn.Hardshrink()\n",
    "        )\n",
    "    \n",
    "    \n",
    "        self.feature_generator = nn.Sequential(\n",
    "            nn.Flatten(),\n",
    "            #nn.InstanceNorm1d(2592, track_running_stats=track_running_stats),\n",
    "            nn.Linear(2592,8),\n",
    "            nn.Dropout(0.1),\n",
    "            #nn.InstanceNorm1d(8, track_running_stats=track_running_stats),\n",
    "            nn.Linear(8,5),\n",
    "            SigmoidRange(Tensor([12,12,0,0,0]).cuda(),Tensor([90,90,100,100,100]).cuda())\n",
    "        )\n",
    "    \n",
    "    def forward(self, input):\n",
    "        x = input #self.c3d_to_2d(input) #[:,:,:,:,10]\n",
    "       # print(x.shape)\n",
    "        x = self.encoder3d(x)\n",
    "       # print(x.shape)\n",
    "        x = x.view(-1,52, 27, 32)\n",
    "        x = self.encoder2d(x)\n",
    "       # print(x.shape)\n",
    "    \n",
    "        features = self.feature_generator(x)\n",
    "        \n",
    "        x = self.decoder2d(x)\n",
    "       # print(x.shape)\n",
    "        x = x.view(-1,1,52, 27, 32)\n",
    "       # print(x.shape)\n",
    "        x = self.decoder3d(x)\n",
    "       # print(x.shape)\n",
    "        \n",
    "        return torch.cat((x,features),1)"
   ]
  },
  {
   "cell_type": "markdown",
   "execution_count": null,
   "metadata": {},
   "source": [
    "learner accumulates gradients over n_steps because batch size is small. Backprop happens after bs*n_steps"
   ]
  },
  {
   "cell_type": "code",
   "execution_count": 11,
   "metadata": {},
   "outputs": [],
   "source": [
    "learn = Learner(data(), AutoEncoderBlock(53), \n",
    "                    loss_func = Mixed_Loss(loss_weights = LOSS_WEIGHTS,  \n",
    "                                             loss_base= LOSS_BASE, bs=bs),\n",
    "               # loss_func=F.mse_loss,\n",
    "                        metrics=[mean_absolute_error,mean_squared_error],\n",
    "                callback_fns=partial(AccumulateScheduler, n_step=16))\n",
    "\n",
    "learn.clip_grad = 1.0\n",
    "\n",
    "learn.model_dir = '/kaggle/working'"
   ]
  },
  {
   "cell_type": "code",
   "execution_count": 12,
   "metadata": {},
   "outputs": [
    {
     "data": {
      "text/html": [
       "\n",
       "    <div>\n",
       "        <style>\n",
       "            /* Turns off some styling */\n",
       "            progress {\n",
       "                /* gets rid of default border in Firefox and Opera. */\n",
       "                border: none;\n",
       "                /* Needs to be in here for Safari polyfill so background images work as expected. */\n",
       "                background-size: auto;\n",
       "            }\n",
       "            .progress-bar-interrupted, .progress-bar-interrupted::-webkit-progress-bar {\n",
       "                background: #F44336;\n",
       "            }\n",
       "        </style>\n",
       "      <progress value='0' class='' max='1' style='width:300px; height:20px; vertical-align: middle;'></progress>\n",
       "      0.00% [0/1 00:00<00:00]\n",
       "    </div>\n",
       "    \n",
       "<table border=\"1\" class=\"dataframe\">\n",
       "  <thead>\n",
       "    <tr style=\"text-align: left;\">\n",
       "      <th>epoch</th>\n",
       "      <th>train_loss</th>\n",
       "      <th>valid_loss</th>\n",
       "      <th>mean_absolute_error</th>\n",
       "      <th>mean_squared_error</th>\n",
       "      <th>time</th>\n",
       "    </tr>\n",
       "  </thead>\n",
       "  <tbody>\n",
       "  </tbody>\n",
       "</table><p>\n",
       "\n",
       "    <div>\n",
       "        <style>\n",
       "            /* Turns off some styling */\n",
       "            progress {\n",
       "                /* gets rid of default border in Firefox and Opera. */\n",
       "                border: none;\n",
       "                /* Needs to be in here for Safari polyfill so background images work as expected. */\n",
       "                background-size: auto;\n",
       "            }\n",
       "            .progress-bar-interrupted, .progress-bar-interrupted::-webkit-progress-bar {\n",
       "                background: #F44336;\n",
       "            }\n",
       "        </style>\n",
       "      <progress value='80' class='' max='1322' style='width:300px; height:20px; vertical-align: middle;'></progress>\n",
       "      6.05% [80/1322 04:01<1:02:30 0.4395]\n",
       "    </div>\n",
       "    "
      ],
      "text/plain": [
       "<IPython.core.display.HTML object>"
      ]
     },
     "metadata": {},
     "output_type": "display_data"
    },
    {
     "name": "stdout",
     "output_type": "stream",
     "text": [
      "LR Finder is complete, type {learner_name}.recorder.plot() to see the graph.\n"
     ]
    }
   ],
   "source": [
    "learn.lr_find()"
   ]
  },
  {
   "cell_type": "code",
   "execution_count": 13,
   "metadata": {},
   "outputs": [
    {
     "data": {
      "image/png": "[encoded data removed]",
      "text/plain": [
       "<Figure size 432x288 with 1 Axes>"
      ]
     },
     "metadata": {
      "needs_background": "light"
     },
     "output_type": "display_data"
    }
   ],
   "source": [
    "learn.recorder.plot()"
   ]
  },
  {
   "cell_type": "code",
   "execution_count": 14,
   "metadata": {},
   "outputs": [
    {
     "data": {
      "text/html": [
       "<table border=\"1\" class=\"dataframe\">\n",
       "  <thead>\n",
       "    <tr style=\"text-align: left;\">\n",
       "      <th>epoch</th>\n",
       "      <th>train_loss</th>\n",
       "      <th>valid_loss</th>\n",
       "      <th>mean_absolute_error</th>\n",
       "      <th>mean_squared_error</th>\n",
       "      <th>time</th>\n",
       "    </tr>\n",
       "  </thead>\n",
       "  <tbody>\n",
       "    <tr>\n",
       "      <td>0</td>\n",
       "      <td>0.223255</td>\n",
       "      <td>0.219145</td>\n",
       "      <td>0.227157</td>\n",
       "      <td>0.310198</td>\n",
       "      <td>1:13:50</td>\n",
       "    </tr>\n",
       "    <tr>\n",
       "      <td>1</td>\n",
       "      <td>0.215359</td>\n",
       "      <td>0.211605</td>\n",
       "      <td>0.222034</td>\n",
       "      <td>0.292173</td>\n",
       "      <td>1:14:01</td>\n",
       "    </tr>\n",
       "    <tr>\n",
       "      <td>2</td>\n",
       "      <td>0.206063</td>\n",
       "      <td>0.210447</td>\n",
       "      <td>0.221537</td>\n",
       "      <td>0.289964</td>\n",
       "      <td>1:13:30</td>\n",
       "    </tr>\n",
       "  </tbody>\n",
       "</table>"
      ],
      "text/plain": [
       "<IPython.core.display.HTML object>"
      ]
     },
     "metadata": {},
     "output_type": "display_data"
    }
   ],
   "source": [
    "learn.fit_one_cycle(3,2e-4)"
   ]
  },
  {
   "cell_type": "code",
   "execution_count": 15,
   "metadata": {},
   "outputs": [
    {
     "ename": "OSError",
     "evalue": "[Errno 30] Read-only file system: '/kaggle/input/trends-assessment-prediction/export.pkl'",
     "output_type": "error",
     "traceback": [
      "\u001b[0;31m---------------------------------------------------------------------------\u001b[0m",
      "\u001b[0;31mOSError\u001b[0m                                   Traceback (most recent call last)",
      "\u001b[0;32m<ipython-input-15-8dfc9170dc83>\u001b[0m in \u001b[0;36m<module>\u001b[0;34m\u001b[0m\n\u001b[1;32m      1\u001b[0m \u001b[0mlearn\u001b[0m\u001b[0;34m.\u001b[0m\u001b[0mmodel_dir\u001b[0m \u001b[0;34m=\u001b[0m \u001b[0;34m'/kaggle/working'\u001b[0m\u001b[0;34m\u001b[0m\u001b[0;34m\u001b[0m\u001b[0m\n\u001b[0;32m----> 2\u001b[0;31m \u001b[0mlearn\u001b[0m\u001b[0;34m.\u001b[0m\u001b[0mexport\u001b[0m\u001b[0;34m(\u001b[0m\u001b[0;34m)\u001b[0m\u001b[0;34m\u001b[0m\u001b[0;34m\u001b[0m\u001b[0m\n\u001b[0m",
      "\u001b[0;32m/opt/conda/lib/python3.7/site-packages/fastai/basic_train.py\u001b[0m in \u001b[0;36mexport\u001b[0;34m(self, file, destroy)\u001b[0m\n\u001b[1;32m    241\u001b[0m             \u001b[0mstate\u001b[0m\u001b[0;34m[\u001b[0m\u001b[0;34m'data'\u001b[0m\u001b[0;34m]\u001b[0m \u001b[0;34m=\u001b[0m \u001b[0mself\u001b[0m\u001b[0;34m.\u001b[0m\u001b[0mdata\u001b[0m\u001b[0;34m.\u001b[0m\u001b[0mvalid_ds\u001b[0m\u001b[0;34m.\u001b[0m\u001b[0mget_state\u001b[0m\u001b[0;34m(\u001b[0m\u001b[0;34m**\u001b[0m\u001b[0mxtra\u001b[0m\u001b[0;34m)\u001b[0m\u001b[0;34m\u001b[0m\u001b[0;34m\u001b[0m\u001b[0m\n\u001b[1;32m    242\u001b[0m             \u001b[0mstate\u001b[0m\u001b[0;34m[\u001b[0m\u001b[0;34m'cls'\u001b[0m\u001b[0;34m]\u001b[0m \u001b[0;34m=\u001b[0m \u001b[0mself\u001b[0m\u001b[0;34m.\u001b[0m\u001b[0m__class__\u001b[0m\u001b[0;34m\u001b[0m\u001b[0;34m\u001b[0m\u001b[0m\n\u001b[0;32m--> 243\u001b[0;31m             \u001b[0mtry_save\u001b[0m\u001b[0;34m(\u001b[0m\u001b[0mstate\u001b[0m\u001b[0;34m,\u001b[0m \u001b[0mself\u001b[0m\u001b[0;34m.\u001b[0m\u001b[0mpath\u001b[0m\u001b[0;34m,\u001b[0m \u001b[0mfile\u001b[0m\u001b[0;34m)\u001b[0m\u001b[0;34m\u001b[0m\u001b[0;34m\u001b[0m\u001b[0m\n\u001b[0m\u001b[1;32m    244\u001b[0m         \u001b[0;32mif\u001b[0m \u001b[0mdestroy\u001b[0m\u001b[0;34m:\u001b[0m \u001b[0mself\u001b[0m\u001b[0;34m.\u001b[0m\u001b[0mdestroy\u001b[0m\u001b[0;34m(\u001b[0m\u001b[0;34m)\u001b[0m\u001b[0;34m\u001b[0m\u001b[0;34m\u001b[0m\u001b[0m\n\u001b[1;32m    245\u001b[0m \u001b[0;34m\u001b[0m\u001b[0m\n",
      "\u001b[0;32m/opt/conda/lib/python3.7/site-packages/fastai/torch_core.py\u001b[0m in \u001b[0;36mtry_save\u001b[0;34m(state, path, file)\u001b[0m\n\u001b[1;32m    409\u001b[0m \u001b[0;34m\u001b[0m\u001b[0m\n\u001b[1;32m    410\u001b[0m \u001b[0;32mdef\u001b[0m \u001b[0mtry_save\u001b[0m\u001b[0;34m(\u001b[0m\u001b[0mstate\u001b[0m\u001b[0;34m:\u001b[0m\u001b[0mDict\u001b[0m\u001b[0;34m,\u001b[0m \u001b[0mpath\u001b[0m\u001b[0;34m:\u001b[0m\u001b[0mPath\u001b[0m\u001b[0;34m=\u001b[0m\u001b[0;32mNone\u001b[0m\u001b[0;34m,\u001b[0m \u001b[0mfile\u001b[0m\u001b[0;34m:\u001b[0m\u001b[0mPathLikeOrBinaryStream\u001b[0m\u001b[0;34m=\u001b[0m\u001b[0;32mNone\u001b[0m\u001b[0;34m)\u001b[0m\u001b[0;34m:\u001b[0m\u001b[0;34m\u001b[0m\u001b[0;34m\u001b[0m\u001b[0m\n\u001b[0;32m--> 411\u001b[0;31m     \u001b[0mtarget\u001b[0m \u001b[0;34m=\u001b[0m \u001b[0mopen\u001b[0m\u001b[0;34m(\u001b[0m\u001b[0mpath\u001b[0m\u001b[0;34m/\u001b[0m\u001b[0mfile\u001b[0m\u001b[0;34m,\u001b[0m \u001b[0;34m'wb'\u001b[0m\u001b[0;34m)\u001b[0m \u001b[0;32mif\u001b[0m \u001b[0mis_pathlike\u001b[0m\u001b[0;34m(\u001b[0m\u001b[0mfile\u001b[0m\u001b[0;34m)\u001b[0m \u001b[0;32melse\u001b[0m \u001b[0mfile\u001b[0m\u001b[0;34m\u001b[0m\u001b[0;34m\u001b[0m\u001b[0m\n\u001b[0m\u001b[1;32m    412\u001b[0m     \u001b[0;32mtry\u001b[0m\u001b[0;34m:\u001b[0m\u001b[0;34m\u001b[0m\u001b[0;34m\u001b[0m\u001b[0m\n\u001b[1;32m    413\u001b[0m         \u001b[0;32mwith\u001b[0m \u001b[0mwarnings\u001b[0m\u001b[0;34m.\u001b[0m\u001b[0mcatch_warnings\u001b[0m\u001b[0;34m(\u001b[0m\u001b[0;34m)\u001b[0m\u001b[0;34m:\u001b[0m\u001b[0;34m\u001b[0m\u001b[0;34m\u001b[0m\u001b[0m\n",
      "\u001b[0;31mOSError\u001b[0m: [Errno 30] Read-only file system: '/kaggle/input/trends-assessment-prediction/export.pkl'"
     ]
    }
   ],
   "source": [
    "learn.model_dir = '/kaggle/working'\n",
    "learn.export()"
   ]
  },
  {
   "cell_type": "code",
   "execution_count": null,
   "metadata": {},
   "outputs": [],
   "source": []
  }
 ],
 "metadata": {
  "kernelspec": {
   "display_name": "Python 3",
   "language": "python",
   "name": "python3"
  },
  "language_info": {
   "codemirror_mode": {
    "name": "ipython",
    "version": 3
   },
   "file_extension": ".py",
   "mimetype": "text/x-python",
   "name": "python",
   "nbconvert_exporter": "python",
   "pygments_lexer": "ipython3",
   "version": "3.7.6"
  }
 },
 "nbformat": 4,
 "nbformat_minor": 4
}
